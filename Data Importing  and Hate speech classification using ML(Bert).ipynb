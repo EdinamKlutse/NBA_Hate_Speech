{
 "cells": [
  {
   "cell_type": "code",
   "execution_count": 1,
   "id": "2682c8c6",
   "metadata": {},
   "outputs": [
    {
     "name": "stderr",
     "output_type": "stream",
     "text": [
      "2022-12-04 11:46:58.477093: I tensorflow/core/platform/cpu_feature_guard.cc:193] This TensorFlow binary is optimized with oneAPI Deep Neural Network Library (oneDNN) to use the following CPU instructions in performance-critical operations:  AVX2 FMA\n",
      "To enable them in other operations, rebuild TensorFlow with the appropriate compiler flags.\n"
     ]
    },
    {
     "name": "stdout",
     "output_type": "stream",
     "text": [
      "2.11.0\n"
     ]
    }
   ],
   "source": [
    "from tensorflow import keras\n",
    "import tensorflow as tf\n",
    "print(tf.__version__)"
   ]
  },
  {
   "cell_type": "code",
   "execution_count": 4,
   "id": "faef0dfd",
   "metadata": {
    "scrolled": true
   },
   "outputs": [
    {
     "name": "stdout",
     "output_type": "stream",
     "text": [
      "Requirement already satisfied: tensorflow-text in /Users/edinamklutse/opt/anaconda3/lib/python3.9/site-packages (2.11.0)\n",
      "Requirement already satisfied: tensorflow-hub>=0.8.0 in /Users/edinamklutse/opt/anaconda3/lib/python3.9/site-packages (from tensorflow-text) (0.12.0)\n",
      "Collecting tensorflow<2.12,>=2.11.0\n",
      "  Using cached tensorflow-2.11.0-cp39-cp39-macosx_10_14_x86_64.whl (244.3 MB)\n",
      "Requirement already satisfied: opt-einsum>=2.3.2 in /Users/edinamklutse/opt/anaconda3/lib/python3.9/site-packages (from tensorflow<2.12,>=2.11.0->tensorflow-text) (3.3.0)\n",
      "Requirement already satisfied: six>=1.12.0 in /Users/edinamklutse/opt/anaconda3/lib/python3.9/site-packages (from tensorflow<2.12,>=2.11.0->tensorflow-text) (1.16.0)\n",
      "Requirement already satisfied: grpcio<2.0,>=1.24.3 in /Users/edinamklutse/opt/anaconda3/lib/python3.9/site-packages (from tensorflow<2.12,>=2.11.0->tensorflow-text) (1.47.0)\n",
      "Requirement already satisfied: packaging in /Users/edinamklutse/opt/anaconda3/lib/python3.9/site-packages (from tensorflow<2.12,>=2.11.0->tensorflow-text) (21.0)\n",
      "Requirement already satisfied: libclang>=13.0.0 in /Users/edinamklutse/opt/anaconda3/lib/python3.9/site-packages (from tensorflow<2.12,>=2.11.0->tensorflow-text) (14.0.6)\n",
      "Requirement already satisfied: astunparse>=1.6.0 in /Users/edinamklutse/opt/anaconda3/lib/python3.9/site-packages (from tensorflow<2.12,>=2.11.0->tensorflow-text) (1.6.3)\n",
      "Requirement already satisfied: tensorflow-io-gcs-filesystem>=0.23.1 in /Users/edinamklutse/opt/anaconda3/lib/python3.9/site-packages (from tensorflow<2.12,>=2.11.0->tensorflow-text) (0.26.0)\n",
      "Requirement already satisfied: flatbuffers>=2.0 in /Users/edinamklutse/opt/anaconda3/lib/python3.9/site-packages (from tensorflow<2.12,>=2.11.0->tensorflow-text) (22.11.23)\n",
      "Collecting keras<2.12,>=2.11.0\n",
      "  Using cached keras-2.11.0-py2.py3-none-any.whl (1.7 MB)\n",
      "Collecting tensorboard<2.12,>=2.11\n",
      "  Using cached tensorboard-2.11.0-py3-none-any.whl (6.0 MB)\n",
      "Requirement already satisfied: google-pasta>=0.1.1 in /Users/edinamklutse/opt/anaconda3/lib/python3.9/site-packages (from tensorflow<2.12,>=2.11.0->tensorflow-text) (0.2.0)\n",
      "Requirement already satisfied: protobuf<3.20,>=3.9.2 in /Users/edinamklutse/opt/anaconda3/lib/python3.9/site-packages (from tensorflow<2.12,>=2.11.0->tensorflow-text) (3.19.6)\n",
      "Collecting tensorflow-estimator<2.12,>=2.11.0\n",
      "  Using cached tensorflow_estimator-2.11.0-py2.py3-none-any.whl (439 kB)\n",
      "Requirement already satisfied: h5py>=2.9.0 in /Users/edinamklutse/opt/anaconda3/lib/python3.9/site-packages (from tensorflow<2.12,>=2.11.0->tensorflow-text) (3.2.1)\n",
      "Requirement already satisfied: wrapt>=1.11.0 in /Users/edinamklutse/opt/anaconda3/lib/python3.9/site-packages (from tensorflow<2.12,>=2.11.0->tensorflow-text) (1.12.1)\n",
      "Requirement already satisfied: absl-py>=1.0.0 in /Users/edinamklutse/opt/anaconda3/lib/python3.9/site-packages (from tensorflow<2.12,>=2.11.0->tensorflow-text) (1.2.0)\n",
      "Requirement already satisfied: setuptools in /Users/edinamklutse/opt/anaconda3/lib/python3.9/site-packages (from tensorflow<2.12,>=2.11.0->tensorflow-text) (58.0.4)\n",
      "Requirement already satisfied: numpy>=1.20 in /Users/edinamklutse/opt/anaconda3/lib/python3.9/site-packages (from tensorflow<2.12,>=2.11.0->tensorflow-text) (1.20.3)\n",
      "Requirement already satisfied: typing-extensions>=3.6.6 in /Users/edinamklutse/opt/anaconda3/lib/python3.9/site-packages (from tensorflow<2.12,>=2.11.0->tensorflow-text) (3.10.0.2)\n",
      "Requirement already satisfied: termcolor>=1.1.0 in /Users/edinamklutse/opt/anaconda3/lib/python3.9/site-packages (from tensorflow<2.12,>=2.11.0->tensorflow-text) (1.1.0)\n",
      "Requirement already satisfied: gast<=0.4.0,>=0.2.1 in /Users/edinamklutse/opt/anaconda3/lib/python3.9/site-packages (from tensorflow<2.12,>=2.11.0->tensorflow-text) (0.4.0)\n",
      "Requirement already satisfied: wheel<1.0,>=0.23.0 in /Users/edinamklutse/opt/anaconda3/lib/python3.9/site-packages (from astunparse>=1.6.0->tensorflow<2.12,>=2.11.0->tensorflow-text) (0.37.0)\n",
      "Requirement already satisfied: markdown>=2.6.8 in /Users/edinamklutse/opt/anaconda3/lib/python3.9/site-packages (from tensorboard<2.12,>=2.11->tensorflow<2.12,>=2.11.0->tensorflow-text) (3.4.1)\n",
      "Requirement already satisfied: google-auth-oauthlib<0.5,>=0.4.1 in /Users/edinamklutse/opt/anaconda3/lib/python3.9/site-packages (from tensorboard<2.12,>=2.11->tensorflow<2.12,>=2.11.0->tensorflow-text) (0.4.6)\n",
      "Requirement already satisfied: tensorboard-data-server<0.7.0,>=0.6.0 in /Users/edinamklutse/opt/anaconda3/lib/python3.9/site-packages (from tensorboard<2.12,>=2.11->tensorflow<2.12,>=2.11.0->tensorflow-text) (0.6.1)\n",
      "Requirement already satisfied: google-auth<3,>=1.6.3 in /Users/edinamklutse/opt/anaconda3/lib/python3.9/site-packages (from tensorboard<2.12,>=2.11->tensorflow<2.12,>=2.11.0->tensorflow-text) (2.9.1)\n",
      "Requirement already satisfied: tensorboard-plugin-wit>=1.6.0 in /Users/edinamklutse/opt/anaconda3/lib/python3.9/site-packages (from tensorboard<2.12,>=2.11->tensorflow<2.12,>=2.11.0->tensorflow-text) (1.8.1)\n",
      "Requirement already satisfied: requests<3,>=2.21.0 in /Users/edinamklutse/opt/anaconda3/lib/python3.9/site-packages (from tensorboard<2.12,>=2.11->tensorflow<2.12,>=2.11.0->tensorflow-text) (2.28.1)\n",
      "Requirement already satisfied: werkzeug>=1.0.1 in /Users/edinamklutse/opt/anaconda3/lib/python3.9/site-packages (from tensorboard<2.12,>=2.11->tensorflow<2.12,>=2.11.0->tensorflow-text) (2.0.2)\n",
      "Requirement already satisfied: pyasn1-modules>=0.2.1 in /Users/edinamklutse/opt/anaconda3/lib/python3.9/site-packages (from google-auth<3,>=1.6.3->tensorboard<2.12,>=2.11->tensorflow<2.12,>=2.11.0->tensorflow-text) (0.2.8)\n",
      "Requirement already satisfied: rsa<5,>=3.1.4 in /Users/edinamklutse/opt/anaconda3/lib/python3.9/site-packages (from google-auth<3,>=1.6.3->tensorboard<2.12,>=2.11->tensorflow<2.12,>=2.11.0->tensorflow-text) (4.9)\n",
      "Requirement already satisfied: cachetools<6.0,>=2.0.0 in /Users/edinamklutse/opt/anaconda3/lib/python3.9/site-packages (from google-auth<3,>=1.6.3->tensorboard<2.12,>=2.11->tensorflow<2.12,>=2.11.0->tensorflow-text) (5.2.0)\n",
      "Requirement already satisfied: requests-oauthlib>=0.7.0 in /Users/edinamklutse/opt/anaconda3/lib/python3.9/site-packages (from google-auth-oauthlib<0.5,>=0.4.1->tensorboard<2.12,>=2.11->tensorflow<2.12,>=2.11.0->tensorflow-text) (1.3.1)\n",
      "Requirement already satisfied: importlib-metadata>=4.4 in /Users/edinamklutse/opt/anaconda3/lib/python3.9/site-packages (from markdown>=2.6.8->tensorboard<2.12,>=2.11->tensorflow<2.12,>=2.11.0->tensorflow-text) (4.8.1)\n",
      "Requirement already satisfied: zipp>=0.5 in /Users/edinamklutse/opt/anaconda3/lib/python3.9/site-packages (from importlib-metadata>=4.4->markdown>=2.6.8->tensorboard<2.12,>=2.11->tensorflow<2.12,>=2.11.0->tensorflow-text) (3.6.0)\n",
      "Requirement already satisfied: pyasn1<0.5.0,>=0.4.6 in /Users/edinamklutse/opt/anaconda3/lib/python3.9/site-packages (from pyasn1-modules>=0.2.1->google-auth<3,>=1.6.3->tensorboard<2.12,>=2.11->tensorflow<2.12,>=2.11.0->tensorflow-text) (0.4.8)\n",
      "Requirement already satisfied: charset-normalizer<3,>=2 in /Users/edinamklutse/opt/anaconda3/lib/python3.9/site-packages (from requests<3,>=2.21.0->tensorboard<2.12,>=2.11->tensorflow<2.12,>=2.11.0->tensorflow-text) (2.0.4)\n",
      "Requirement already satisfied: certifi>=2017.4.17 in /Users/edinamklutse/opt/anaconda3/lib/python3.9/site-packages (from requests<3,>=2.21.0->tensorboard<2.12,>=2.11->tensorflow<2.12,>=2.11.0->tensorflow-text) (2021.10.8)\n",
      "Requirement already satisfied: idna<4,>=2.5 in /Users/edinamklutse/opt/anaconda3/lib/python3.9/site-packages (from requests<3,>=2.21.0->tensorboard<2.12,>=2.11->tensorflow<2.12,>=2.11.0->tensorflow-text) (3.2)\n",
      "Requirement already satisfied: urllib3<1.27,>=1.21.1 in /Users/edinamklutse/opt/anaconda3/lib/python3.9/site-packages (from requests<3,>=2.21.0->tensorboard<2.12,>=2.11->tensorflow<2.12,>=2.11.0->tensorflow-text) (1.26.7)\n",
      "Requirement already satisfied: oauthlib>=3.0.0 in /Users/edinamklutse/opt/anaconda3/lib/python3.9/site-packages (from requests-oauthlib>=0.7.0->google-auth-oauthlib<0.5,>=0.4.1->tensorboard<2.12,>=2.11->tensorflow<2.12,>=2.11.0->tensorflow-text) (3.2.0)\n",
      "Requirement already satisfied: pyparsing>=2.0.2 in /Users/edinamklutse/opt/anaconda3/lib/python3.9/site-packages (from packaging->tensorflow<2.12,>=2.11.0->tensorflow-text) (3.0.4)\n"
     ]
    },
    {
     "name": "stdout",
     "output_type": "stream",
     "text": [
      "Installing collected packages: tensorflow-estimator, tensorboard, keras, tensorflow\n",
      "  Attempting uninstall: tensorflow-estimator\n",
      "    Found existing installation: tensorflow-estimator 2.10.0\n",
      "    Uninstalling tensorflow-estimator-2.10.0:\n",
      "      Successfully uninstalled tensorflow-estimator-2.10.0\n",
      "  Attempting uninstall: tensorboard\n",
      "    Found existing installation: tensorboard 2.10.1\n",
      "    Uninstalling tensorboard-2.10.1:\n",
      "      Successfully uninstalled tensorboard-2.10.1\n",
      "  Attempting uninstall: keras\n",
      "    Found existing installation: keras 2.10.0\n",
      "    Uninstalling keras-2.10.0:\n",
      "      Successfully uninstalled keras-2.10.0\n",
      "  Attempting uninstall: tensorflow\n",
      "    Found existing installation: tensorflow 2.10.0\n",
      "    Uninstalling tensorflow-2.10.0:\n",
      "      Successfully uninstalled tensorflow-2.10.0\n",
      "Successfully installed keras-2.11.0 tensorboard-2.11.0 tensorflow-2.11.0 tensorflow-estimator-2.11.0\n"
     ]
    }
   ],
   "source": [
    "#installing a dependency which whol be used to preprocess Bert inputs\n",
    "!pip install tensorflow-text"
   ]
  },
  {
   "cell_type": "code",
   "execution_count": null,
   "id": "026785ae",
   "metadata": {},
   "outputs": [],
   "source": []
  },
  {
   "cell_type": "code",
   "execution_count": 6,
   "id": "1f8ddfb6",
   "metadata": {
    "scrolled": true
   },
   "outputs": [
    {
     "name": "stdout",
     "output_type": "stream",
     "text": [
      "Requirement already satisfied: tf-models-official in /Users/edinamklutse/opt/anaconda3/lib/python3.9/site-packages (2.11.0)\n",
      "Requirement already satisfied: opencv-python-headless==4.5.2.52 in /Users/edinamklutse/opt/anaconda3/lib/python3.9/site-packages (from tf-models-official) (4.5.2.52)\n",
      "Requirement already satisfied: gin-config in /Users/edinamklutse/opt/anaconda3/lib/python3.9/site-packages (from tf-models-official) (0.5.0)\n",
      "Requirement already satisfied: immutabledict in /Users/edinamklutse/opt/anaconda3/lib/python3.9/site-packages (from tf-models-official) (2.2.3)\n",
      "Requirement already satisfied: py-cpuinfo>=3.3.0 in /Users/edinamklutse/opt/anaconda3/lib/python3.9/site-packages (from tf-models-official) (9.0.0)\n",
      "Requirement already satisfied: tensorflow-model-optimization>=0.4.1 in /Users/edinamklutse/opt/anaconda3/lib/python3.9/site-packages (from tf-models-official) (0.7.3)\n",
      "Requirement already satisfied: pandas>=0.22.0 in /Users/edinamklutse/opt/anaconda3/lib/python3.9/site-packages (from tf-models-official) (1.3.4)\n",
      "Requirement already satisfied: tensorflow~=2.11.0 in /Users/edinamklutse/opt/anaconda3/lib/python3.9/site-packages (from tf-models-official) (2.11.0)\n",
      "Requirement already satisfied: Cython in /Users/edinamklutse/opt/anaconda3/lib/python3.9/site-packages (from tf-models-official) (0.29.24)\n",
      "Requirement already satisfied: tensorflow-addons in /Users/edinamklutse/opt/anaconda3/lib/python3.9/site-packages (from tf-models-official) (0.18.0)\n",
      "Requirement already satisfied: tf-slim>=1.1.0 in /Users/edinamklutse/opt/anaconda3/lib/python3.9/site-packages (from tf-models-official) (1.1.0)\n",
      "Requirement already satisfied: pyyaml<6.0,>=5.1 in /Users/edinamklutse/opt/anaconda3/lib/python3.9/site-packages (from tf-models-official) (5.4.1)\n",
      "Requirement already satisfied: oauth2client in /Users/edinamklutse/opt/anaconda3/lib/python3.9/site-packages (from tf-models-official) (4.1.3)\n",
      "Requirement already satisfied: tensorflow-datasets in /Users/edinamklutse/opt/anaconda3/lib/python3.9/site-packages (from tf-models-official) (4.7.0)\n",
      "Requirement already satisfied: psutil>=5.4.3 in /Users/edinamklutse/opt/anaconda3/lib/python3.9/site-packages (from tf-models-official) (5.8.0)\n",
      "Requirement already satisfied: sacrebleu in /Users/edinamklutse/opt/anaconda3/lib/python3.9/site-packages (from tf-models-official) (2.3.1)\n",
      "Requirement already satisfied: six in /Users/edinamklutse/opt/anaconda3/lib/python3.9/site-packages (from tf-models-official) (1.16.0)\n",
      "Requirement already satisfied: seqeval in /Users/edinamklutse/opt/anaconda3/lib/python3.9/site-packages (from tf-models-official) (1.2.2)\n",
      "Requirement already satisfied: google-api-python-client>=1.6.7 in /Users/edinamklutse/opt/anaconda3/lib/python3.9/site-packages (from tf-models-official) (2.66.0)\n",
      "Requirement already satisfied: kaggle>=1.3.9 in /Users/edinamklutse/opt/anaconda3/lib/python3.9/site-packages (from tf-models-official) (1.5.12)\n",
      "Requirement already satisfied: tensorflow-text~=2.11.0 in /Users/edinamklutse/opt/anaconda3/lib/python3.9/site-packages (from tf-models-official) (2.11.0)\n",
      "Requirement already satisfied: Pillow in /Users/edinamklutse/opt/anaconda3/lib/python3.9/site-packages (from tf-models-official) (8.4.0)\n",
      "Requirement already satisfied: matplotlib in /Users/edinamklutse/opt/anaconda3/lib/python3.9/site-packages (from tf-models-official) (3.4.3)\n",
      "Requirement already satisfied: numpy>=1.20 in /Users/edinamklutse/opt/anaconda3/lib/python3.9/site-packages (from tf-models-official) (1.20.3)\n",
      "Requirement already satisfied: tensorflow-hub>=0.6.0 in /Users/edinamklutse/opt/anaconda3/lib/python3.9/site-packages (from tf-models-official) (0.12.0)\n",
      "Requirement already satisfied: pycocotools in /Users/edinamklutse/opt/anaconda3/lib/python3.9/site-packages (from tf-models-official) (2.0.6)\n",
      "Requirement already satisfied: sentencepiece in /Users/edinamklutse/opt/anaconda3/lib/python3.9/site-packages (from tf-models-official) (0.1.97)\n",
      "Requirement already satisfied: scipy>=0.19.1 in /Users/edinamklutse/opt/anaconda3/lib/python3.9/site-packages (from tf-models-official) (1.7.1)\n",
      "Requirement already satisfied: google-auth<3.0.0dev,>=1.19.0 in /Users/edinamklutse/opt/anaconda3/lib/python3.9/site-packages (from google-api-python-client>=1.6.7->tf-models-official) (2.9.1)\n",
      "Requirement already satisfied: httplib2<1dev,>=0.15.0 in /Users/edinamklutse/opt/anaconda3/lib/python3.9/site-packages (from google-api-python-client>=1.6.7->tf-models-official) (0.21.0)\n",
      "Requirement already satisfied: uritemplate<5,>=3.0.1 in /Users/edinamklutse/opt/anaconda3/lib/python3.9/site-packages (from google-api-python-client>=1.6.7->tf-models-official) (4.1.1)\n",
      "Requirement already satisfied: google-auth-httplib2>=0.1.0 in /Users/edinamklutse/opt/anaconda3/lib/python3.9/site-packages (from google-api-python-client>=1.6.7->tf-models-official) (0.1.0)\n",
      "Requirement already satisfied: google-api-core!=2.0.*,!=2.1.*,!=2.2.*,!=2.3.0,<3.0.0dev,>=1.31.5 in /Users/edinamklutse/opt/anaconda3/lib/python3.9/site-packages (from google-api-python-client>=1.6.7->tf-models-official) (2.10.2)\n",
      "Requirement already satisfied: googleapis-common-protos<2.0dev,>=1.56.2 in /Users/edinamklutse/opt/anaconda3/lib/python3.9/site-packages (from google-api-core!=2.0.*,!=2.1.*,!=2.2.*,!=2.3.0,<3.0.0dev,>=1.31.5->google-api-python-client>=1.6.7->tf-models-official) (1.57.0)\n",
      "Requirement already satisfied: requests<3.0.0dev,>=2.18.0 in /Users/edinamklutse/opt/anaconda3/lib/python3.9/site-packages (from google-api-core!=2.0.*,!=2.1.*,!=2.2.*,!=2.3.0,<3.0.0dev,>=1.31.5->google-api-python-client>=1.6.7->tf-models-official) (2.28.1)\n",
      "Requirement already satisfied: protobuf!=3.20.0,!=3.20.1,!=4.21.0,!=4.21.1,!=4.21.2,!=4.21.3,!=4.21.4,!=4.21.5,<5.0.0dev,>=3.19.5 in /Users/edinamklutse/opt/anaconda3/lib/python3.9/site-packages (from google-api-core!=2.0.*,!=2.1.*,!=2.2.*,!=2.3.0,<3.0.0dev,>=1.31.5->google-api-python-client>=1.6.7->tf-models-official) (3.19.6)\n",
      "Requirement already satisfied: cachetools<6.0,>=2.0.0 in /Users/edinamklutse/opt/anaconda3/lib/python3.9/site-packages (from google-auth<3.0.0dev,>=1.19.0->google-api-python-client>=1.6.7->tf-models-official) (5.2.0)\n",
      "Requirement already satisfied: rsa<5,>=3.1.4 in /Users/edinamklutse/opt/anaconda3/lib/python3.9/site-packages (from google-auth<3.0.0dev,>=1.19.0->google-api-python-client>=1.6.7->tf-models-official) (4.9)\n",
      "Requirement already satisfied: pyasn1-modules>=0.2.1 in /Users/edinamklutse/opt/anaconda3/lib/python3.9/site-packages (from google-auth<3.0.0dev,>=1.19.0->google-api-python-client>=1.6.7->tf-models-official) (0.2.8)\n",
      "Requirement already satisfied: pyparsing!=3.0.0,!=3.0.1,!=3.0.2,!=3.0.3,<4,>=2.4.2 in /Users/edinamklutse/opt/anaconda3/lib/python3.9/site-packages (from httplib2<1dev,>=0.15.0->google-api-python-client>=1.6.7->tf-models-official) (3.0.4)\n",
      "Requirement already satisfied: python-dateutil in /Users/edinamklutse/opt/anaconda3/lib/python3.9/site-packages (from kaggle>=1.3.9->tf-models-official) (2.8.2)\n",
      "Requirement already satisfied: urllib3 in /Users/edinamklutse/opt/anaconda3/lib/python3.9/site-packages (from kaggle>=1.3.9->tf-models-official) (1.26.7)\n",
      "Requirement already satisfied: python-slugify in /Users/edinamklutse/opt/anaconda3/lib/python3.9/site-packages (from kaggle>=1.3.9->tf-models-official) (5.0.2)\n",
      "Requirement already satisfied: certifi in /Users/edinamklutse/opt/anaconda3/lib/python3.9/site-packages (from kaggle>=1.3.9->tf-models-official) (2021.10.8)\n",
      "Requirement already satisfied: tqdm in /Users/edinamklutse/opt/anaconda3/lib/python3.9/site-packages (from kaggle>=1.3.9->tf-models-official) (4.62.3)\n",
      "Requirement already satisfied: pytz>=2017.3 in /Users/edinamklutse/opt/anaconda3/lib/python3.9/site-packages (from pandas>=0.22.0->tf-models-official) (2021.3)\n",
      "Requirement already satisfied: pyasn1<0.5.0,>=0.4.6 in /Users/edinamklutse/opt/anaconda3/lib/python3.9/site-packages (from pyasn1-modules>=0.2.1->google-auth<3.0.0dev,>=1.19.0->google-api-python-client>=1.6.7->tf-models-official) (0.4.8)\n",
      "Requirement already satisfied: charset-normalizer<3,>=2 in /Users/edinamklutse/opt/anaconda3/lib/python3.9/site-packages (from requests<3.0.0dev,>=2.18.0->google-api-core!=2.0.*,!=2.1.*,!=2.2.*,!=2.3.0,<3.0.0dev,>=1.31.5->google-api-python-client>=1.6.7->tf-models-official) (2.0.4)\n",
      "Requirement already satisfied: idna<4,>=2.5 in /Users/edinamklutse/opt/anaconda3/lib/python3.9/site-packages (from requests<3.0.0dev,>=2.18.0->google-api-core!=2.0.*,!=2.1.*,!=2.2.*,!=2.3.0,<3.0.0dev,>=1.31.5->google-api-python-client>=1.6.7->tf-models-official) (3.2)\n"
     ]
    },
    {
     "name": "stdout",
     "output_type": "stream",
     "text": [
      "Requirement already satisfied: google-pasta>=0.1.1 in /Users/edinamklutse/opt/anaconda3/lib/python3.9/site-packages (from tensorflow~=2.11.0->tf-models-official) (0.2.0)\n",
      "Requirement already satisfied: termcolor>=1.1.0 in /Users/edinamklutse/opt/anaconda3/lib/python3.9/site-packages (from tensorflow~=2.11.0->tf-models-official) (1.1.0)\n",
      "Requirement already satisfied: libclang>=13.0.0 in /Users/edinamklutse/opt/anaconda3/lib/python3.9/site-packages (from tensorflow~=2.11.0->tf-models-official) (14.0.6)\n",
      "Requirement already satisfied: tensorflow-estimator<2.12,>=2.11.0 in /Users/edinamklutse/opt/anaconda3/lib/python3.9/site-packages (from tensorflow~=2.11.0->tf-models-official) (2.11.0)\n",
      "Requirement already satisfied: wrapt>=1.11.0 in /Users/edinamklutse/opt/anaconda3/lib/python3.9/site-packages (from tensorflow~=2.11.0->tf-models-official) (1.12.1)\n",
      "Requirement already satisfied: flatbuffers>=2.0 in /Users/edinamklutse/opt/anaconda3/lib/python3.9/site-packages (from tensorflow~=2.11.0->tf-models-official) (22.11.23)\n",
      "Requirement already satisfied: grpcio<2.0,>=1.24.3 in /Users/edinamklutse/opt/anaconda3/lib/python3.9/site-packages (from tensorflow~=2.11.0->tf-models-official) (1.47.0)\n",
      "Requirement already satisfied: tensorflow-io-gcs-filesystem>=0.23.1 in /Users/edinamklutse/opt/anaconda3/lib/python3.9/site-packages (from tensorflow~=2.11.0->tf-models-official) (0.26.0)\n",
      "Requirement already satisfied: absl-py>=1.0.0 in /Users/edinamklutse/opt/anaconda3/lib/python3.9/site-packages (from tensorflow~=2.11.0->tf-models-official) (1.2.0)\n",
      "Requirement already satisfied: opt-einsum>=2.3.2 in /Users/edinamklutse/opt/anaconda3/lib/python3.9/site-packages (from tensorflow~=2.11.0->tf-models-official) (3.3.0)\n",
      "Requirement already satisfied: h5py>=2.9.0 in /Users/edinamklutse/opt/anaconda3/lib/python3.9/site-packages (from tensorflow~=2.11.0->tf-models-official) (3.2.1)\n",
      "Requirement already satisfied: typing-extensions>=3.6.6 in /Users/edinamklutse/opt/anaconda3/lib/python3.9/site-packages (from tensorflow~=2.11.0->tf-models-official) (3.10.0.2)\n",
      "Requirement already satisfied: keras<2.12,>=2.11.0 in /Users/edinamklutse/opt/anaconda3/lib/python3.9/site-packages (from tensorflow~=2.11.0->tf-models-official) (2.11.0)\n",
      "Requirement already satisfied: astunparse>=1.6.0 in /Users/edinamklutse/opt/anaconda3/lib/python3.9/site-packages (from tensorflow~=2.11.0->tf-models-official) (1.6.3)\n",
      "Requirement already satisfied: packaging in /Users/edinamklutse/opt/anaconda3/lib/python3.9/site-packages (from tensorflow~=2.11.0->tf-models-official) (21.0)\n",
      "Requirement already satisfied: setuptools in /Users/edinamklutse/opt/anaconda3/lib/python3.9/site-packages (from tensorflow~=2.11.0->tf-models-official) (58.0.4)\n",
      "Requirement already satisfied: tensorboard<2.12,>=2.11 in /Users/edinamklutse/opt/anaconda3/lib/python3.9/site-packages (from tensorflow~=2.11.0->tf-models-official) (2.11.0)\n",
      "Requirement already satisfied: gast<=0.4.0,>=0.2.1 in /Users/edinamklutse/opt/anaconda3/lib/python3.9/site-packages (from tensorflow~=2.11.0->tf-models-official) (0.4.0)\n",
      "Requirement already satisfied: wheel<1.0,>=0.23.0 in /Users/edinamklutse/opt/anaconda3/lib/python3.9/site-packages (from astunparse>=1.6.0->tensorflow~=2.11.0->tf-models-official) (0.37.0)\n",
      "Requirement already satisfied: markdown>=2.6.8 in /Users/edinamklutse/opt/anaconda3/lib/python3.9/site-packages (from tensorboard<2.12,>=2.11->tensorflow~=2.11.0->tf-models-official) (3.4.1)\n",
      "Requirement already satisfied: tensorboard-data-server<0.7.0,>=0.6.0 in /Users/edinamklutse/opt/anaconda3/lib/python3.9/site-packages (from tensorboard<2.12,>=2.11->tensorflow~=2.11.0->tf-models-official) (0.6.1)\n",
      "Requirement already satisfied: werkzeug>=1.0.1 in /Users/edinamklutse/opt/anaconda3/lib/python3.9/site-packages (from tensorboard<2.12,>=2.11->tensorflow~=2.11.0->tf-models-official) (2.0.2)\n",
      "Requirement already satisfied: google-auth-oauthlib<0.5,>=0.4.1 in /Users/edinamklutse/opt/anaconda3/lib/python3.9/site-packages (from tensorboard<2.12,>=2.11->tensorflow~=2.11.0->tf-models-official) (0.4.6)\n",
      "Requirement already satisfied: tensorboard-plugin-wit>=1.6.0 in /Users/edinamklutse/opt/anaconda3/lib/python3.9/site-packages (from tensorboard<2.12,>=2.11->tensorflow~=2.11.0->tf-models-official) (1.8.1)\n",
      "Requirement already satisfied: requests-oauthlib>=0.7.0 in /Users/edinamklutse/opt/anaconda3/lib/python3.9/site-packages (from google-auth-oauthlib<0.5,>=0.4.1->tensorboard<2.12,>=2.11->tensorflow~=2.11.0->tf-models-official) (1.3.1)\n",
      "Requirement already satisfied: importlib-metadata>=4.4 in /Users/edinamklutse/opt/anaconda3/lib/python3.9/site-packages (from markdown>=2.6.8->tensorboard<2.12,>=2.11->tensorflow~=2.11.0->tf-models-official) (4.8.1)\n",
      "Requirement already satisfied: zipp>=0.5 in /Users/edinamklutse/opt/anaconda3/lib/python3.9/site-packages (from importlib-metadata>=4.4->markdown>=2.6.8->tensorboard<2.12,>=2.11->tensorflow~=2.11.0->tf-models-official) (3.6.0)\n",
      "Requirement already satisfied: oauthlib>=3.0.0 in /Users/edinamklutse/opt/anaconda3/lib/python3.9/site-packages (from requests-oauthlib>=0.7.0->google-auth-oauthlib<0.5,>=0.4.1->tensorboard<2.12,>=2.11->tensorflow~=2.11.0->tf-models-official) (3.2.0)\n",
      "Requirement already satisfied: dm-tree~=0.1.1 in /Users/edinamklutse/opt/anaconda3/lib/python3.9/site-packages (from tensorflow-model-optimization>=0.4.1->tf-models-official) (0.1.7)\n",
      "Requirement already satisfied: cycler>=0.10 in /Users/edinamklutse/opt/anaconda3/lib/python3.9/site-packages (from matplotlib->tf-models-official) (0.10.0)\n",
      "Requirement already satisfied: kiwisolver>=1.0.1 in /Users/edinamklutse/opt/anaconda3/lib/python3.9/site-packages (from matplotlib->tf-models-official) (1.3.1)\n",
      "Requirement already satisfied: text-unidecode>=1.3 in /Users/edinamklutse/opt/anaconda3/lib/python3.9/site-packages (from python-slugify->kaggle>=1.3.9->tf-models-official) (1.3)\n",
      "Requirement already satisfied: lxml in /Users/edinamklutse/opt/anaconda3/lib/python3.9/site-packages (from sacrebleu->tf-models-official) (4.6.3)\n",
      "Requirement already satisfied: tabulate>=0.8.9 in /Users/edinamklutse/opt/anaconda3/lib/python3.9/site-packages (from sacrebleu->tf-models-official) (0.9.0)\n",
      "Requirement already satisfied: portalocker in /Users/edinamklutse/opt/anaconda3/lib/python3.9/site-packages (from sacrebleu->tf-models-official) (2.6.0)\n",
      "Requirement already satisfied: regex in /Users/edinamklutse/opt/anaconda3/lib/python3.9/site-packages (from sacrebleu->tf-models-official) (2021.8.3)\n",
      "Requirement already satisfied: colorama in /Users/edinamklutse/opt/anaconda3/lib/python3.9/site-packages (from sacrebleu->tf-models-official) (0.4.4)\n",
      "Requirement already satisfied: scikit-learn>=0.21.3 in /Users/edinamklutse/opt/anaconda3/lib/python3.9/site-packages (from seqeval->tf-models-official) (0.24.2)\n",
      "Requirement already satisfied: joblib>=0.11 in /Users/edinamklutse/opt/anaconda3/lib/python3.9/site-packages (from scikit-learn>=0.21.3->seqeval->tf-models-official) (1.1.0)\n",
      "Requirement already satisfied: threadpoolctl>=2.0.0 in /Users/edinamklutse/opt/anaconda3/lib/python3.9/site-packages (from scikit-learn>=0.21.3->seqeval->tf-models-official) (2.2.0)\n",
      "Requirement already satisfied: typeguard>=2.7 in /Users/edinamklutse/opt/anaconda3/lib/python3.9/site-packages (from tensorflow-addons->tf-models-official) (2.13.3)\n",
      "Requirement already satisfied: etils[epath] in /Users/edinamklutse/opt/anaconda3/lib/python3.9/site-packages (from tensorflow-datasets->tf-models-official) (0.9.0)\n",
      "Requirement already satisfied: promise in /Users/edinamklutse/opt/anaconda3/lib/python3.9/site-packages (from tensorflow-datasets->tf-models-official) (2.3)\n",
      "Requirement already satisfied: dill in /Users/edinamklutse/opt/anaconda3/lib/python3.9/site-packages (from tensorflow-datasets->tf-models-official) (0.3.6)\n",
      "Requirement already satisfied: tensorflow-metadata in /Users/edinamklutse/opt/anaconda3/lib/python3.9/site-packages (from tensorflow-datasets->tf-models-official) (1.11.0)\n",
      "Requirement already satisfied: toml in /Users/edinamklutse/opt/anaconda3/lib/python3.9/site-packages (from tensorflow-datasets->tf-models-official) (0.10.2)\n",
      "Requirement already satisfied: importlib_resources in /Users/edinamklutse/opt/anaconda3/lib/python3.9/site-packages (from etils[epath]->tensorflow-datasets->tf-models-official) (5.10.0)\n"
     ]
    }
   ],
   "source": [
    "!pip install tf-models-official "
   ]
  },
  {
   "cell_type": "code",
   "execution_count": null,
   "id": "f96af163",
   "metadata": {},
   "outputs": [],
   "source": []
  },
  {
   "cell_type": "code",
   "execution_count": 5,
   "id": "4b5fe74c",
   "metadata": {},
   "outputs": [
    {
     "name": "stdout",
     "output_type": "stream",
     "text": [
      "2.11.0\n"
     ]
    }
   ],
   "source": [
    "import pandas as pd\n",
    "import numpy as np\n",
    "from sklearn.model_selection import GroupKFold\n",
    "import matplotlib.pyplot as plt\n",
    "from tqdm.notebook import tqdm\n",
    "import tensorflow as tf\n",
    "import tensorflow_hub as hub\n",
    "import tensorflow_text as text\n",
    "import tensorflow.keras.backend as K\n",
    "from scipy.stats import spearmanr\n",
    "from math import floor, ceil\n",
    "from transformers import *\n",
    " \n",
    "    \n",
    "np.set_printoptions(suppress=True)\n",
    "print(tf.__version__)\n",
    "\n",
    "import shutil\n",
    "\n",
    "from official.nlp import optimization  # to create AdamW optmizer\n",
    "\n",
    "tf.get_logger().setLevel('ERROR')"
   ]
  },
  {
   "cell_type": "code",
   "execution_count": 32,
   "id": "678ae55b",
   "metadata": {},
   "outputs": [
    {
     "name": "stdout",
     "output_type": "stream",
     "text": [
      "Index(['Unnamed: 0', 'count', 'hate_speech', 'offensive_language', 'neither',\n",
      "       'label', 'text', 'category'],\n",
      "      dtype='object')\n"
     ]
    },
    {
     "data": {
      "text/html": [
       "<div>\n",
       "<style scoped>\n",
       "    .dataframe tbody tr th:only-of-type {\n",
       "        vertical-align: middle;\n",
       "    }\n",
       "\n",
       "    .dataframe tbody tr th {\n",
       "        vertical-align: top;\n",
       "    }\n",
       "\n",
       "    .dataframe thead th {\n",
       "        text-align: right;\n",
       "    }\n",
       "</style>\n",
       "<table border=\"1\" class=\"dataframe\">\n",
       "  <thead>\n",
       "    <tr style=\"text-align: right;\">\n",
       "      <th></th>\n",
       "      <th>label</th>\n",
       "      <th>text</th>\n",
       "      <th>category</th>\n",
       "    </tr>\n",
       "  </thead>\n",
       "  <tbody>\n",
       "    <tr>\n",
       "      <th>0</th>\n",
       "      <td>2</td>\n",
       "      <td>!!! RT @mayasolovely: As a woman you shouldn't...</td>\n",
       "      <td>neither</td>\n",
       "    </tr>\n",
       "    <tr>\n",
       "      <th>1</th>\n",
       "      <td>1</td>\n",
       "      <td>!!!!! RT @mleew17: boy dats cold...tyga dwn ba...</td>\n",
       "      <td>offensive_language</td>\n",
       "    </tr>\n",
       "    <tr>\n",
       "      <th>2</th>\n",
       "      <td>1</td>\n",
       "      <td>!!!!!!! RT @UrKindOfBrand Dawg!!!! RT @80sbaby...</td>\n",
       "      <td>offensive_language</td>\n",
       "    </tr>\n",
       "    <tr>\n",
       "      <th>3</th>\n",
       "      <td>1</td>\n",
       "      <td>!!!!!!!!! RT @C_G_Anderson: @viva_based she lo...</td>\n",
       "      <td>offensive_language</td>\n",
       "    </tr>\n",
       "    <tr>\n",
       "      <th>4</th>\n",
       "      <td>1</td>\n",
       "      <td>!!!!!!!!!!!!! RT @ShenikaRoberts: The shit you...</td>\n",
       "      <td>offensive_language</td>\n",
       "    </tr>\n",
       "  </tbody>\n",
       "</table>\n",
       "</div>"
      ],
      "text/plain": [
       "   label                                               text  \\\n",
       "0      2  !!! RT @mayasolovely: As a woman you shouldn't...   \n",
       "1      1  !!!!! RT @mleew17: boy dats cold...tyga dwn ba...   \n",
       "2      1  !!!!!!! RT @UrKindOfBrand Dawg!!!! RT @80sbaby...   \n",
       "3      1  !!!!!!!!! RT @C_G_Anderson: @viva_based she lo...   \n",
       "4      1  !!!!!!!!!!!!! RT @ShenikaRoberts: The shit you...   \n",
       "\n",
       "             category  \n",
       "0             neither  \n",
       "1  offensive_language  \n",
       "2  offensive_language  \n",
       "3  offensive_language  \n",
       "4  offensive_language  "
      ]
     },
     "execution_count": 32,
     "metadata": {},
     "output_type": "execute_result"
    }
   ],
   "source": [
    "#read in labeled data for trainig model and drop unnecessary columns \n",
    "df = pd.read_csv('labeled_data.csv',nrows=None)\n",
    "df['category'] = df['class'].map({0:'hate_speech', 1:'offensive_language', 2:'neither'})\n",
    "df.rename(columns={'tweet':'text',\n",
    "                  'class': 'label'},inplace=True)\n",
    "print(df.columns)\n",
    "df.drop(['Unnamed: 0', 'count', 'hate_speech', 'offensive_language', 'neither',],axis=1,inplace=True)\n",
    "df.head()"
   ]
  },
  {
   "cell_type": "code",
   "execution_count": 90,
   "id": "a23d419a",
   "metadata": {},
   "outputs": [
    {
     "data": {
      "text/plain": [
       "(24783, 2)"
      ]
     },
     "execution_count": 90,
     "metadata": {},
     "output_type": "execute_result"
    }
   ],
   "source": [
    "df[['label','text']].values.shape"
   ]
  },
  {
   "cell_type": "code",
   "execution_count": 50,
   "id": "3bdf94fa",
   "metadata": {},
   "outputs": [],
   "source": [
    "from sklearn.model_selection import train_test_split\n",
    "#Split data in train, test, validation \n",
    "X_train_, X_test, y_train_, y_test = train_test_split(\n",
    "    df.index.values,\n",
    "    df.label.values,\n",
    "    test_size=0.10,\n",
    "    random_state=42,\n",
    "    stratify=df.label.values,    \n",
    ")\n",
    "X_train, X_val, y_train, y_val = train_test_split(\n",
    "    df.loc[X_train_].index.values,\n",
    "    df.loc[X_train_].label.values,\n",
    "    test_size=0.10,\n",
    "    random_state=42,\n",
    "    stratify=df.loc[X_train_].label.values,  \n",
    ")"
   ]
  },
  {
   "cell_type": "code",
   "execution_count": 36,
   "id": "3ab2bbd6",
   "metadata": {},
   "outputs": [
    {
     "data": {
      "image/png": "[encoded data removed]",
      "text/plain": [
       "<Figure size 432x288 with 1 Axes>"
      ]
     },
     "metadata": {
      "needs_background": "light"
     },
     "output_type": "display_data"
    }
   ],
   "source": [
    "from wordcloud import WordCloud, STOPWORDS\n",
    "stopwords = set(STOPWORDS)\n",
    "stopwords.add(\"RT\")\n",
    "\n",
    "import random\n",
    "\n",
    "def random_color_func(word=None, font_size=None, position=None,  orientation=None, font_path=None, random_state=None):\n",
    "    h = 344\n",
    "    s = int(100.0 * 255.0 / 255.0)\n",
    "    l = int(100.0 * float(random_state.randint(60, 120)) / 255.0)\n",
    "    return \"hsl({}, {}%, {}%)\".format(h, s, l)\n",
    "\n",
    "wordcloud = WordCloud(\n",
    "                          background_color='white',\n",
    "                          stopwords=stopwords,\n",
    "                          max_words=200,\n",
    "                          max_font_size=60, \n",
    "                          random_state=42\n",
    "                         ).generate(str(df.loc[df[\"category\"]==\"hate_speech\"].text))\n",
    "fig = plt.figure(1)\n",
    "plt.imshow(wordcloud.recolor(color_func= random_color_func, random_state=3),\n",
    "           interpolation=\"bilinear\")\n",
    "plt.axis('off')\n",
    "plt.show()"
   ]
  },
  {
   "cell_type": "code",
   "execution_count": 51,
   "id": "09ab228f",
   "metadata": {},
   "outputs": [],
   "source": [
    "#Build input for Tensor flow\n",
    "train_ds = tf.data.Dataset.from_tensor_slices((df.loc[X_train].text.values, y_train))\n",
    "val_ds = tf.data.Dataset.from_tensor_slices((df.loc[X_val].text.values,y_val))\n",
    "test_ds = tf.data.Dataset.from_tensor_slices((df.loc[X_test].text.values,y_test))"
   ]
  },
  {
   "cell_type": "code",
   "execution_count": 52,
   "id": "07a2798d",
   "metadata": {},
   "outputs": [],
   "source": [
    "#use drop_remainder to ignore the last batch to gett the full shape propagation\n",
    "train_ds = train_ds.shuffle(len(X_train) + len (y_train)).batch(32, drop_remainder=False)\n",
    "val_ds = val_ds.shuffle(len(X_val) + len(y_val)).batch(32, drop_remainder=False)\n",
    "test_ds = test_ds.shuffle(len(X_test) + len(y_val)).batch(32, drop_remainder=False)"
   ]
  },
  {
   "cell_type": "code",
   "execution_count": 47,
   "id": "531114a2",
   "metadata": {},
   "outputs": [
    {
     "data": {
      "text/plain": [
       "<BatchDataset element_spec=(TensorSpec(shape=(None,), dtype=tf.int64, name=None), TensorSpec(shape=(None,), dtype=tf.int64, name=None))>"
      ]
     },
     "execution_count": 47,
     "metadata": {},
     "output_type": "execute_result"
    }
   ],
   "source": []
  },
  {
   "cell_type": "code",
   "execution_count": 53,
   "id": "22043372",
   "metadata": {},
   "outputs": [
    {
     "name": "stdout",
     "output_type": "stream",
     "text": [
      "BERT model selected           : https://tfhub.dev/tensorflow/small_bert/bert_en_uncased_L-4_H-512_A-8/1\n",
      "Preprocess model auto-selected: https://tfhub.dev/tensorflow/bert_en_uncased_preprocess/1\n"
     ]
    }
   ],
   "source": [
    "#Load models for Tensor flow \n",
    "bert_model_name = 'small_bert/bert_en_uncased_L-4_H-512_A-8' \n",
    "#bert_model_name = 'bert_en_uncased_L-12_H-768_A-12'\n",
    "\n",
    "map_name_to_handle = {\n",
    "    'bert_en_uncased_L-12_H-768_A-12':\n",
    "        'https://tfhub.dev/tensorflow/bert_en_uncased_L-12_H-768_A-12/3',\n",
    "    'bert_en_cased_L-12_H-768_A-12':\n",
    "        'https://tfhub.dev/tensorflow/bert_en_cased_L-12_H-768_A-12/3',\n",
    "    'bert_multi_cased_L-12_H-768_A-12':\n",
    "        'https://tfhub.dev/tensorflow/bert_multi_cased_L-12_H-768_A-12/3',\n",
    "    'small_bert/bert_en_uncased_L-2_H-128_A-2':\n",
    "        'https://tfhub.dev/tensorflow/small_bert/bert_en_uncased_L-2_H-128_A-2/1',\n",
    "    'small_bert/bert_en_uncased_L-2_H-256_A-4':\n",
    "        'https://tfhub.dev/tensorflow/small_bert/bert_en_uncased_L-2_H-256_A-4/1',\n",
    "    'small_bert/bert_en_uncased_L-2_H-512_A-8':\n",
    "        'https://tfhub.dev/tensorflow/small_bert/bert_en_uncased_L-2_H-512_A-8/1',\n",
    "    'small_bert/bert_en_uncased_L-2_H-768_A-12':\n",
    "        'https://tfhub.dev/tensorflow/small_bert/bert_en_uncased_L-2_H-768_A-12/1',\n",
    "    'small_bert/bert_en_uncased_L-4_H-128_A-2':\n",
    "        'https://tfhub.dev/tensorflow/small_bert/bert_en_uncased_L-4_H-128_A-2/1',\n",
    "    'small_bert/bert_en_uncased_L-4_H-256_A-4':\n",
    "        'https://tfhub.dev/tensorflow/small_bert/bert_en_uncased_L-4_H-256_A-4/1',\n",
    "    'small_bert/bert_en_uncased_L-4_H-512_A-8':\n",
    "        'https://tfhub.dev/tensorflow/small_bert/bert_en_uncased_L-4_H-512_A-8/1',\n",
    "    'small_bert/bert_en_uncased_L-4_H-768_A-12':\n",
    "        'https://tfhub.dev/tensorflow/small_bert/bert_en_uncased_L-4_H-768_A-12/1',\n",
    "    'small_bert/bert_en_uncased_L-6_H-128_A-2':\n",
    "        'https://tfhub.dev/tensorflow/small_bert/bert_en_uncased_L-6_H-128_A-2/1',\n",
    "    'small_bert/bert_en_uncased_L-6_H-256_A-4':\n",
    "        'https://tfhub.dev/tensorflow/small_bert/bert_en_uncased_L-6_H-256_A-4/1',\n",
    "    'small_bert/bert_en_uncased_L-6_H-512_A-8':\n",
    "        'https://tfhub.dev/tensorflow/small_bert/bert_en_uncased_L-6_H-512_A-8/1',\n",
    "    'small_bert/bert_en_uncased_L-6_H-768_A-12':\n",
    "        'https://tfhub.dev/tensorflow/small_bert/bert_en_uncased_L-6_H-768_A-12/1',\n",
    "    'small_bert/bert_en_uncased_L-8_H-128_A-2':\n",
    "        'https://tfhub.dev/tensorflow/small_bert/bert_en_uncased_L-8_H-128_A-2/1',\n",
    "    'small_bert/bert_en_uncased_L-8_H-256_A-4':\n",
    "        'https://tfhub.dev/tensorflow/small_bert/bert_en_uncased_L-8_H-256_A-4/1',\n",
    "    'small_bert/bert_en_uncased_L-8_H-512_A-8':\n",
    "        'https://tfhub.dev/tensorflow/small_bert/bert_en_uncased_L-8_H-512_A-8/1',\n",
    "    'small_bert/bert_en_uncased_L-8_H-768_A-12':\n",
    "        'https://tfhub.dev/tensorflow/small_bert/bert_en_uncased_L-8_H-768_A-12/1',\n",
    "    'small_bert/bert_en_uncased_L-10_H-128_A-2':\n",
    "        'https://tfhub.dev/tensorflow/small_bert/bert_en_uncased_L-10_H-128_A-2/1',\n",
    "    'small_bert/bert_en_uncased_L-10_H-256_A-4':\n",
    "        'https://tfhub.dev/tensorflow/small_bert/bert_en_uncased_L-10_H-256_A-4/1',\n",
    "    'small_bert/bert_en_uncased_L-10_H-512_A-8':\n",
    "        'https://tfhub.dev/tensorflow/small_bert/bert_en_uncased_L-10_H-512_A-8/1',\n",
    "    'small_bert/bert_en_uncased_L-10_H-768_A-12':\n",
    "        'https://tfhub.dev/tensorflow/small_bert/bert_en_uncased_L-10_H-768_A-12/1',\n",
    "    'small_bert/bert_en_uncased_L-12_H-128_A-2':\n",
    "        'https://tfhub.dev/tensorflow/small_bert/bert_en_uncased_L-12_H-128_A-2/1',\n",
    "    'small_bert/bert_en_uncased_L-12_H-256_A-4':\n",
    "        'https://tfhub.dev/tensorflow/small_bert/bert_en_uncased_L-12_H-256_A-4/1',\n",
    "    'small_bert/bert_en_uncased_L-12_H-512_A-8':\n",
    "        'https://tfhub.dev/tensorflow/small_bert/bert_en_uncased_L-12_H-512_A-8/1',\n",
    "    'small_bert/bert_en_uncased_L-12_H-768_A-12':\n",
    "        'https://tfhub.dev/tensorflow/small_bert/bert_en_uncased_L-12_H-768_A-12/1',\n",
    "    'albert_en_base':\n",
    "        'https://tfhub.dev/tensorflow/albert_en_base/2',\n",
    "    'electra_small':\n",
    "        'https://tfhub.dev/google/electra_small/2',\n",
    "    'electra_base':\n",
    "        'https://tfhub.dev/google/electra_base/2',\n",
    "    'experts_pubmed':\n",
    "        'https://tfhub.dev/google/experts/bert/pubmed/2',\n",
    "    'experts_wiki_books':\n",
    "        'https://tfhub.dev/google/experts/bert/wiki_books/2',\n",
    "    'talking-heads_base':\n",
    "        'https://tfhub.dev/tensorflow/talkheads_ggelu_bert_en_base/1',\n",
    "}\n",
    "\n",
    "map_model_to_preprocess = {\n",
    "    'bert_en_uncased_L-12_H-768_A-12':\n",
    "        'https://tfhub.dev/tensorflow/bert_en_uncased_preprocess/1',\n",
    "    'bert_en_cased_L-12_H-768_A-12':\n",
    "        'https://tfhub.dev/tensorflow/bert_en_cased_preprocess/1',\n",
    "    'small_bert/bert_en_uncased_L-2_H-128_A-2':\n",
    "        'https://tfhub.dev/tensorflow/bert_en_uncased_preprocess/1',\n",
    "    'small_bert/bert_en_uncased_L-2_H-256_A-4':\n",
    "        'https://tfhub.dev/tensorflow/bert_en_uncased_preprocess/1',\n",
    "    'small_bert/bert_en_uncased_L-2_H-512_A-8':\n",
    "        'https://tfhub.dev/tensorflow/bert_en_uncased_preprocess/1',\n",
    "    'small_bert/bert_en_uncased_L-2_H-768_A-12':\n",
    "        'https://tfhub.dev/tensorflow/bert_en_uncased_preprocess/1',\n",
    "    'small_bert/bert_en_uncased_L-4_H-128_A-2':\n",
    "        'https://tfhub.dev/tensorflow/bert_en_uncased_preprocess/1',\n",
    "    'small_bert/bert_en_uncased_L-4_H-256_A-4':\n",
    "        'https://tfhub.dev/tensorflow/bert_en_uncased_preprocess/1',\n",
    "    'small_bert/bert_en_uncased_L-4_H-512_A-8':\n",
    "        'https://tfhub.dev/tensorflow/bert_en_uncased_preprocess/1',\n",
    "    'small_bert/bert_en_uncased_L-4_H-768_A-12':\n",
    "        'https://tfhub.dev/tensorflow/bert_en_uncased_preprocess/1',\n",
    "    'small_bert/bert_en_uncased_L-6_H-128_A-2':\n",
    "        'https://tfhub.dev/tensorflow/bert_en_uncased_preprocess/1',\n",
    "    'small_bert/bert_en_uncased_L-6_H-256_A-4':\n",
    "        'https://tfhub.dev/tensorflow/bert_en_uncased_preprocess/1',\n",
    "    'small_bert/bert_en_uncased_L-6_H-512_A-8':\n",
    "        'https://tfhub.dev/tensorflow/bert_en_uncased_preprocess/1',\n",
    "    'small_bert/bert_en_uncased_L-6_H-768_A-12':\n",
    "        'https://tfhub.dev/tensorflow/bert_en_uncased_preprocess/1',\n",
    "    'small_bert/bert_en_uncased_L-8_H-128_A-2':\n",
    "        'https://tfhub.dev/tensorflow/bert_en_uncased_preprocess/1',\n",
    "    'small_bert/bert_en_uncased_L-8_H-256_A-4':\n",
    "        'https://tfhub.dev/tensorflow/bert_en_uncased_preprocess/1',\n",
    "    'small_bert/bert_en_uncased_L-8_H-512_A-8':\n",
    "        'https://tfhub.dev/tensorflow/bert_en_uncased_preprocess/1',\n",
    "    'small_bert/bert_en_uncased_L-8_H-768_A-12':\n",
    "        'https://tfhub.dev/tensorflow/bert_en_uncased_preprocess/1',\n",
    "    'small_bert/bert_en_uncased_L-10_H-128_A-2':\n",
    "        'https://tfhub.dev/tensorflow/bert_en_uncased_preprocess/1',\n",
    "    'small_bert/bert_en_uncased_L-10_H-256_A-4':\n",
    "        'https://tfhub.dev/tensorflow/bert_en_uncased_preprocess/1',\n",
    "    'small_bert/bert_en_uncased_L-10_H-512_A-8':\n",
    "        'https://tfhub.dev/tensorflow/bert_en_uncased_preprocess/1',\n",
    "    'small_bert/bert_en_uncased_L-10_H-768_A-12':\n",
    "        'https://tfhub.dev/tensorflow/bert_en_uncased_preprocess/1',\n",
    "    'small_bert/bert_en_uncased_L-12_H-128_A-2':\n",
    "        'https://tfhub.dev/tensorflow/bert_en_uncased_preprocess/1',\n",
    "    'small_bert/bert_en_uncased_L-12_H-256_A-4':\n",
    "        'https://tfhub.dev/tensorflow/bert_en_uncased_preprocess/1',\n",
    "    'small_bert/bert_en_uncased_L-12_H-512_A-8':\n",
    "        'https://tfhub.dev/tensorflow/bert_en_uncased_preprocess/1',\n",
    "    'small_bert/bert_en_uncased_L-12_H-768_A-12':\n",
    "        'https://tfhub.dev/tensorflow/bert_en_uncased_preprocess/1',\n",
    "    'bert_multi_cased_L-12_H-768_A-12':\n",
    "        'https://tfhub.dev/tensorflow/bert_multi_cased_preprocess/1',\n",
    "    'albert_en_base':\n",
    "        'https://tfhub.dev/tensorflow/albert_en_preprocess/1',\n",
    "    'electra_small':\n",
    "        'https://tfhub.dev/tensorflow/bert_en_uncased_preprocess/1',\n",
    "    'electra_base':\n",
    "        'https://tfhub.dev/tensorflow/bert_en_uncased_preprocess/1',\n",
    "    'experts_pubmed':\n",
    "        'https://tfhub.dev/tensorflow/bert_en_uncased_preprocess/1',\n",
    "    'experts_wiki_books':\n",
    "        'https://tfhub.dev/tensorflow/bert_en_uncased_preprocess/1',\n",
    "    'talking-heads_base':\n",
    "        'https://tfhub.dev/tensorflow/bert_en_uncased_preprocess/1',\n",
    "}\n",
    "\n",
    "tfhub_handle_encoder = map_name_to_handle[bert_model_name]\n",
    "tfhub_handle_preprocess = map_model_to_preprocess[bert_model_name]\n",
    "\n",
    "print(f'BERT model selected           : {tfhub_handle_encoder}')\n",
    "print(f'Preprocess model auto-selected: {tfhub_handle_preprocess}')"
   ]
  },
  {
   "cell_type": "code",
   "execution_count": 54,
   "id": "21cffa55",
   "metadata": {},
   "outputs": [],
   "source": [
    "bert_preprocess_model = hub.KerasLayer(tfhub_handle_preprocess)"
   ]
  },
  {
   "cell_type": "code",
   "execution_count": 55,
   "id": "41ed85ac",
   "metadata": {},
   "outputs": [
    {
     "name": "stdout",
     "output_type": "stream",
     "text": [
      "Tweet: b\"' You gottttta be a mad a madddd niggah &#1041204;&#1041204;&#1041204; Sayin ma name ? I must've got you madddddd niggah &#1041204;&#1041204;&#1041204;&#1041204;&#1041210;&#1041210;&#1041210;&#1043359;&#9995;\"\n",
      "Label : 1\n",
      "Keys       : ['input_type_ids', 'input_word_ids', 'input_mask']\n",
      "Shape      : (1, 128)\n",
      "Word Ids   : [  101  1005  2017  2288  4779  5946  2022  1037  5506  1037  5506 14141]\n",
      "Input Mask : [1 1 1 1 1 1 1 1 1 1 1 1]\n",
      "Type Ids   : [0 0 0 0 0 0 0 0 0 0 0 0]\n"
     ]
    }
   ],
   "source": [
    "for text_batch, label_batch in train_ds.take(1):\n",
    "  for i in range(1):\n",
    "    tweet = text_batch.numpy()[i]\n",
    "    print(f'Tweet: {text_batch.numpy()[i]}')\n",
    "    label = label_batch.numpy()[i]\n",
    "    print(f'Label : {label}')\n",
    "\n",
    "text_test = ['this is such an amazing movie!']\n",
    "text_test = [tweet]\n",
    "\n",
    "\n",
    "text_preprocessed = bert_preprocess_model(text_test)\n",
    "\n",
    "print(f'Keys       : {list(text_preprocessed.keys())}')\n",
    "print(f'Shape      : {text_preprocessed[\"input_word_ids\"].shape}')\n",
    "print(f'Word Ids   : {text_preprocessed[\"input_word_ids\"][0, :12]}')\n",
    "print(f'Input Mask : {text_preprocessed[\"input_mask\"][0, :12]}')\n",
    "print(f'Type Ids   : {text_preprocessed[\"input_type_ids\"][0, :12]}')"
   ]
  },
  {
   "cell_type": "code",
   "execution_count": 57,
   "id": "11277836",
   "metadata": {},
   "outputs": [
    {
     "name": "stdout",
     "output_type": "stream",
     "text": [
      "Loaded BERT: https://tfhub.dev/tensorflow/small_bert/bert_en_uncased_L-4_H-512_A-8/1\n",
      "Pooled Outputs Shape:(1, 512)\n",
      "Pooled Outputs Values:[ 0.6436605   0.6748428  -0.07993704  0.6079498   0.6100295   0.5450026\n",
      "  0.99119055 -0.9359221  -0.4329195  -0.98398983 -0.17169055 -0.51072073]\n",
      "Sequence Outputs Shape:(1, 128, 512)\n",
      "Sequence Outputs Values:[[ 0.94555914  0.6429653  -0.32328534 ...  0.30440587  0.1567232\n",
      "   0.31030113]\n",
      " [ 0.3333363  -0.71027845 -0.9163292  ...  1.5477345   0.5126611\n",
      "  -0.01499371]\n",
      " [ 0.02261916  0.28246498  0.34899843 ... -0.18397747 -0.10727455\n",
      "  -0.04464737]\n",
      " ...\n",
      " [-0.11290254  0.3199691   0.399507   ...  0.1221769   0.09426565\n",
      "  -0.18713616]\n",
      " [ 0.6721483   0.45643547 -0.17790718 ... -0.14820117 -0.5486545\n",
      "   0.34179598]\n",
      " [ 0.3212583   0.46208376  0.49320656 ... -0.61955225  0.09371249\n",
      "  -1.1113169 ]]\n"
     ]
    }
   ],
   "source": [
    "# Using bert model on preprocessed data\n",
    "bert_model = hub.KerasLayer(tfhub_handle_encoder)\n",
    "\n",
    "bert_results = bert_model(text_preprocessed)\n",
    "\n",
    "print(f'Loaded BERT: {tfhub_handle_encoder}')\n",
    "print(f'Pooled Outputs Shape:{bert_results[\"pooled_output\"].shape}')\n",
    "print(f'Pooled Outputs Values:{bert_results[\"pooled_output\"][0, :12]}')\n",
    "print(f'Sequence Outputs Shape:{bert_results[\"sequence_output\"].shape}')\n",
    "print(f'Sequence Outputs Values:{bert_results[\"sequence_output\"][0, :12]}')"
   ]
  },
  {
   "cell_type": "code",
   "execution_count": 63,
   "id": "8edd84f8",
   "metadata": {},
   "outputs": [
    {
     "name": "stdout",
     "output_type": "stream",
     "text": [
      "Weight for class 0: 5.78\n",
      "Weight for class 1: 0.43\n",
      "Weight for class 2: 1.98\n"
     ]
    }
   ],
   "source": [
    "#set class weights to deal with unbalanced \n",
    "hate = len(df[df['label']==0])\n",
    "offensive = len(df[df['label']==1])\n",
    "neither = len(df[df['label']==2])\n",
    "\n",
    "total = len(df)\n",
    "\n",
    "weight_for_0 = (1 / hate)*(total)/3.0 \n",
    "weight_for_1 = (1 / offensive)*(total)/3.0\n",
    "weight_for_2 = (1 / neither)*(total)/3.0\n",
    "\n",
    "\n",
    "class_weight = {0: weight_for_0, 1: weight_for_1, 2: weight_for_2}\n",
    "\n",
    "print('Weight for class 0: {:.2f}'.format(weight_for_0))\n",
    "print('Weight for class 1: {:.2f}'.format(weight_for_1))\n",
    "print('Weight for class 2: {:.2f}'.format(weight_for_2))"
   ]
  },
  {
   "cell_type": "code",
   "execution_count": 64,
   "id": "f2dbe196",
   "metadata": {},
   "outputs": [
    {
     "data": {
      "text/plain": [
       "array([ 3.938462, 15.      ,  5.      ])"
      ]
     },
     "execution_count": 64,
     "metadata": {},
     "output_type": "execute_result"
    }
   ],
   "source": [
    "initial_output_bias = np.array([3.938462, 15, 5.])\n",
    "initial_output_bias "
   ]
  },
  {
   "cell_type": "code",
   "execution_count": 65,
   "id": "fe1ec8cb",
   "metadata": {},
   "outputs": [],
   "source": [
    "def build_classifier_model(output_bias=None):\n",
    "    if output_bias is not None:\n",
    "        output_bias = tf.keras.initializers.Constant(output_bias)\n",
    "        #print(output_bias)\n",
    "        \n",
    "    text_input = tf.keras.layers.Input(shape=(), dtype=tf.string, name='text')\n",
    "    preprocessing_layer = hub.KerasLayer(tfhub_handle_preprocess, name='preprocessing')\n",
    "    encoder_inputs = preprocessing_layer(text_input)\n",
    "    encoder = hub.KerasLayer(tfhub_handle_encoder, trainable=True, name='BERT_encoder')\n",
    "    outputs = encoder(encoder_inputs)\n",
    "    net = outputs['pooled_output']\n",
    "    net = tf.keras.layers.Dense(512, activation=\"relu\")(net)\n",
    "    net = tf.keras.layers.Dropout(0.2)(net)\n",
    "#   net = tf.keras.layers.Dense(1, activation=None, name='classifier')(net)\n",
    "    net = tf.keras.layers.Dense(3, activation=\"softmax\", name='classifier', bias_initializer=output_bias)(net)\n",
    "    \n",
    "    return tf.keras.Model(text_input, net)"
   ]
  },
  {
   "cell_type": "code",
   "execution_count": 66,
   "id": "a8be9890",
   "metadata": {},
   "outputs": [
    {
     "name": "stdout",
     "output_type": "stream",
     "text": [
      "tf.Tensor([[0.5000058  0.7310409  0.50001675]], shape=(1, 3), dtype=float32)\n"
     ]
    }
   ],
   "source": [
    "classifier_model = build_classifier_model(output_bias=initial_output_bias)\n",
    "bert_raw_result = classifier_model(tf.constant(text_test))\n",
    "print(tf.sigmoid(bert_raw_result))"
   ]
  },
  {
   "cell_type": "code",
   "execution_count": 67,
   "id": "b1d3053f",
   "metadata": {},
   "outputs": [
    {
     "data": {
      "text/plain": [
       "array([ 3.938462, 15.      ,  5.      ], dtype=float32)"
      ]
     },
     "execution_count": 67,
     "metadata": {},
     "output_type": "execute_result"
    }
   ],
   "source": [
    "classifier_model.get_weights()[-1]"
   ]
  },
  {
   "cell_type": "code",
   "execution_count": 68,
   "id": "36afce3e",
   "metadata": {},
   "outputs": [
    {
     "name": "stdout",
     "output_type": "stream",
     "text": [
      "Model: \"model\"\n",
      "__________________________________________________________________________________________________\n",
      " Layer (type)                   Output Shape         Param #     Connected to                     \n",
      "==================================================================================================\n",
      " text (InputLayer)              [(None,)]            0           []                               \n",
      "                                                                                                  \n",
      " preprocessing (KerasLayer)     {'input_mask': (Non  0           ['text[0][0]']                   \n",
      "                                e, 128),                                                          \n",
      "                                 'input_type_ids':                                                \n",
      "                                (None, 128),                                                      \n",
      "                                 'input_word_ids':                                                \n",
      "                                (None, 128)}                                                      \n",
      "                                                                                                  \n",
      " BERT_encoder (KerasLayer)      {'default': (None,   28763649    ['preprocessing[0][0]',          \n",
      "                                512),                             'preprocessing[0][1]',          \n",
      "                                 'pooled_output': (               'preprocessing[0][2]']          \n",
      "                                None, 512),                                                       \n",
      "                                 'sequence_output':                                               \n",
      "                                 (None, 128, 512),                                                \n",
      "                                 'encoder_outputs':                                               \n",
      "                                 [(None, 128, 512),                                               \n",
      "                                 (None, 128, 512),                                                \n",
      "                                 (None, 128, 512),                                                \n",
      "                                 (None, 128, 512)]}                                               \n",
      "                                                                                                  \n",
      " dense (Dense)                  (None, 512)          262656      ['BERT_encoder[0][5]']           \n",
      "                                                                                                  \n",
      " dropout (Dropout)              (None, 512)          0           ['dense[0][0]']                  \n",
      "                                                                                                  \n",
      " classifier (Dense)             (None, 3)            1539        ['dropout[0][0]']                \n",
      "                                                                                                  \n",
      "==================================================================================================\n",
      "Total params: 29,027,844\n",
      "Trainable params: 29,027,843\n",
      "Non-trainable params: 1\n",
      "__________________________________________________________________________________________________\n"
     ]
    }
   ],
   "source": [
    "classifier_model.summary()"
   ]
  },
  {
   "cell_type": "code",
   "execution_count": 69,
   "id": "8cb424be",
   "metadata": {},
   "outputs": [
    {
     "name": "stdout",
     "output_type": "stream",
     "text": [
      "You must install pydot (`pip install pydot`) and install graphviz (see instructions at https://graphviz.gitlab.io/download/) for plot_model to work.\n"
     ]
    }
   ],
   "source": [
    "tf.keras.utils.plot_model(classifier_model)"
   ]
  },
  {
   "cell_type": "code",
   "execution_count": 70,
   "id": "8387aad3",
   "metadata": {},
   "outputs": [],
   "source": [
    "loss = tf.keras.losses.SparseCategoricalCrossentropy(from_logits=True)\n",
    "metrics = tf.keras.metrics.SparseCategoricalAccuracy('accuracy')"
   ]
  },
  {
   "cell_type": "code",
   "execution_count": 71,
   "id": "de45af99",
   "metadata": {},
   "outputs": [],
   "source": [
    "epochs = 80\n",
    "steps_per_epoch = tf.data.experimental.cardinality(train_ds).numpy()\n",
    "num_train_steps = steps_per_epoch * epochs\n",
    "num_warmup_steps = int(0.1*num_train_steps)\n",
    "\n",
    "init_lr = 3e-5\n",
    "optimizer = optimization.create_optimizer(init_lr=init_lr,\n",
    "                                          num_train_steps=num_train_steps,\n",
    "                                          num_warmup_steps=num_warmup_steps,\n",
    "                                          optimizer_type='adamw')"
   ]
  },
  {
   "cell_type": "code",
   "execution_count": 72,
   "id": "92c6d64a",
   "metadata": {},
   "outputs": [],
   "source": [
    "#  classifier_model.compile(optimizer=optimizer,\n",
    "#                           loss=tf.keras.losses.SparseCategoricalCrossentropy(from_logits=True),\n",
    "#                           metrics=['accuracy'])\n",
    "classifier_model.compile(optimizer=optimizer,\n",
    "                         loss=loss,\n",
    "                         metrics=metrics)"
   ]
  },
  {
   "cell_type": "code",
   "execution_count": 73,
   "id": "6e645baa",
   "metadata": {},
   "outputs": [
    {
     "name": "stdout",
     "output_type": "stream",
     "text": [
      "Training model with https://tfhub.dev/tensorflow/small_bert/bert_en_uncased_L-4_H-512_A-8/1\n",
      "Epoch 1/80\n"
     ]
    },
    {
     "name": "stderr",
     "output_type": "stream",
     "text": [
      "/Users/edinamklutse/opt/anaconda3/lib/python3.9/site-packages/keras/backend.py:5585: UserWarning: \"`sparse_categorical_crossentropy` received `from_logits=True`, but the `output` argument was produced by a Softmax activation and thus does not represent logits. Was this intended?\n",
      "  output, from_logits = _get_logits(\n"
     ]
    },
    {
     "name": "stdout",
     "output_type": "stream",
     "text": [
      "628/628 [==============================] - 1822s 3s/step - loss: 3.6645 - accuracy: 0.7033 - val_loss: 0.9929 - val_accuracy: 0.5110\n",
      "Epoch 2/80\n",
      "628/628 [==============================] - 1846s 3s/step - loss: 0.9100 - accuracy: 0.7016 - val_loss: 0.5680 - val_accuracy: 0.8059\n",
      "Epoch 3/80\n",
      "628/628 [==============================] - 2429s 4s/step - loss: 0.6706 - accuracy: 0.8009 - val_loss: 0.5845 - val_accuracy: 0.7781\n",
      "Epoch 4/80\n",
      "628/628 [==============================] - 1874s 3s/step - loss: 0.5510 - accuracy: 0.8299 - val_loss: 0.3536 - val_accuracy: 0.8588\n",
      "Epoch 5/80\n",
      "628/628 [==============================] - 1811s 3s/step - loss: 0.4953 - accuracy: 0.8494 - val_loss: 0.5084 - val_accuracy: 0.7916\n",
      "Epoch 6/80\n",
      "628/628 [==============================] - 1763s 3s/step - loss: 0.4377 - accuracy: 0.8679 - val_loss: 0.2881 - val_accuracy: 0.9027\n",
      "Epoch 7/80\n",
      "628/628 [==============================] - 1845s 3s/step - loss: 0.3669 - accuracy: 0.8849 - val_loss: 0.5550 - val_accuracy: 0.7866\n",
      "Epoch 8/80\n",
      "628/628 [==============================] - 1755s 3s/step - loss: 0.3227 - accuracy: 0.9039 - val_loss: 0.5363 - val_accuracy: 0.8010\n",
      "Epoch 9/80\n",
      "628/628 [==============================] - 1776s 3s/step - loss: 0.2614 - accuracy: 0.9250 - val_loss: 0.3695 - val_accuracy: 0.8879\n",
      "Epoch 10/80\n",
      "628/628 [==============================] - 1794s 3s/step - loss: 0.2245 - accuracy: 0.9465 - val_loss: 0.4287 - val_accuracy: 0.8911\n",
      "Epoch 11/80\n",
      "628/628 [==============================] - 1800s 3s/step - loss: 0.1567 - accuracy: 0.9647 - val_loss: 0.4966 - val_accuracy: 0.8942\n",
      "Epoch 12/80\n",
      "628/628 [==============================] - 1818s 3s/step - loss: 0.1244 - accuracy: 0.9723 - val_loss: 0.5571 - val_accuracy: 0.9081\n",
      "Epoch 13/80\n",
      "628/628 [==============================] - 1892s 3s/step - loss: 0.1032 - accuracy: 0.9803 - val_loss: 0.6026 - val_accuracy: 0.8938\n",
      "Epoch 14/80\n",
      "628/628 [==============================] - 1958s 3s/step - loss: 0.0865 - accuracy: 0.9832 - val_loss: 0.7032 - val_accuracy: 0.9086\n",
      "Epoch 15/80\n",
      "628/628 [==============================] - 1883s 3s/step - loss: 0.0846 - accuracy: 0.9875 - val_loss: 0.6941 - val_accuracy: 0.9041\n",
      "Epoch 16/80\n",
      "628/628 [==============================] - 2084s 3s/step - loss: 0.0625 - accuracy: 0.9909 - val_loss: 0.7821 - val_accuracy: 0.8978\n",
      "Epoch 17/80\n",
      "628/628 [==============================] - 10125s 16s/step - loss: 0.0626 - accuracy: 0.9913 - val_loss: 0.8151 - val_accuracy: 0.9036\n",
      "Epoch 18/80\n",
      "628/628 [==============================] - 1954s 3s/step - loss: 0.0548 - accuracy: 0.9926 - val_loss: 0.7916 - val_accuracy: 0.9081\n",
      "Epoch 19/80\n",
      "628/628 [==============================] - 2002s 3s/step - loss: 0.0563 - accuracy: 0.9938 - val_loss: 0.7798 - val_accuracy: 0.9104\n",
      "Epoch 20/80\n",
      "628/628 [==============================] - 2045s 3s/step - loss: 0.0498 - accuracy: 0.9940 - val_loss: 0.7720 - val_accuracy: 0.9054\n",
      "Epoch 21/80\n",
      "628/628 [==============================] - 1889s 3s/step - loss: 0.0384 - accuracy: 0.9952 - val_loss: 0.8031 - val_accuracy: 0.9099\n",
      "Epoch 22/80\n",
      "628/628 [==============================] - 1857s 3s/step - loss: 0.0342 - accuracy: 0.9964 - val_loss: 0.8474 - val_accuracy: 0.9126\n",
      "Epoch 23/80\n",
      "628/628 [==============================] - 1793s 3s/step - loss: 0.0317 - accuracy: 0.9961 - val_loss: 0.8794 - val_accuracy: 0.9081\n",
      "Epoch 24/80\n",
      "628/628 [==============================] - 1745s 3s/step - loss: 0.0245 - accuracy: 0.9967 - val_loss: 0.8559 - val_accuracy: 0.9059\n",
      "Epoch 25/80\n",
      "628/628 [==============================] - 1721s 3s/step - loss: 0.0326 - accuracy: 0.9956 - val_loss: 0.9009 - val_accuracy: 0.8991\n",
      "Epoch 26/80\n",
      "628/628 [==============================] - 1712s 3s/step - loss: 0.0196 - accuracy: 0.9976 - val_loss: 0.8793 - val_accuracy: 0.9032\n",
      "Epoch 27/80\n",
      "628/628 [==============================] - 1708s 3s/step - loss: 0.0270 - accuracy: 0.9973 - val_loss: 0.9531 - val_accuracy: 0.9014\n",
      "Epoch 28/80\n",
      "628/628 [==============================] - 1705s 3s/step - loss: 0.0214 - accuracy: 0.9978 - val_loss: 0.8978 - val_accuracy: 0.9117\n",
      "Epoch 29/80\n",
      "628/628 [==============================] - 1704s 3s/step - loss: 0.0332 - accuracy: 0.9971 - val_loss: 0.9391 - val_accuracy: 0.9068\n",
      "Epoch 30/80\n",
      "628/628 [==============================] - 1698s 3s/step - loss: 0.0141 - accuracy: 0.9979 - val_loss: 0.9505 - val_accuracy: 0.9081\n",
      "Epoch 31/80\n",
      "628/628 [==============================] - 1707s 3s/step - loss: 0.0215 - accuracy: 0.9976 - val_loss: 0.8886 - val_accuracy: 0.9068\n",
      "Epoch 32/80\n",
      "628/628 [==============================] - 1709s 3s/step - loss: 0.0089 - accuracy: 0.9987 - val_loss: 1.0175 - val_accuracy: 0.9036\n",
      "Epoch 33/80\n",
      "628/628 [==============================] - 1710s 3s/step - loss: 0.0160 - accuracy: 0.9981 - val_loss: 1.0097 - val_accuracy: 0.9063\n",
      "Epoch 34/80\n",
      "628/628 [==============================] - 1710s 3s/step - loss: 0.0209 - accuracy: 0.9980 - val_loss: 0.9418 - val_accuracy: 0.9081\n",
      "Epoch 35/80\n",
      "628/628 [==============================] - 1707s 3s/step - loss: 0.0187 - accuracy: 0.9980 - val_loss: 0.9482 - val_accuracy: 0.9014\n",
      "Epoch 36/80\n",
      "628/628 [==============================] - 1708s 3s/step - loss: 0.0116 - accuracy: 0.9981 - val_loss: 1.0309 - val_accuracy: 0.8956\n",
      "Epoch 37/80\n",
      "628/628 [==============================] - 1708s 3s/step - loss: 0.0148 - accuracy: 0.9981 - val_loss: 0.9142 - val_accuracy: 0.9009\n",
      "Epoch 38/80\n",
      "628/628 [==============================] - 1705s 3s/step - loss: 0.0133 - accuracy: 0.9988 - val_loss: 0.9439 - val_accuracy: 0.9027\n",
      "Epoch 39/80\n",
      "628/628 [==============================] - 1712s 3s/step - loss: 0.0155 - accuracy: 0.9987 - val_loss: 0.9965 - val_accuracy: 0.9041\n",
      "Epoch 40/80\n",
      "628/628 [==============================] - 1721s 3s/step - loss: 0.0109 - accuracy: 0.9989 - val_loss: 1.0104 - val_accuracy: 0.9041\n",
      "Epoch 41/80\n",
      "628/628 [==============================] - 1732s 3s/step - loss: 0.0047 - accuracy: 0.9991 - val_loss: 1.0534 - val_accuracy: 0.9077\n",
      "Epoch 42/80\n",
      "628/628 [==============================] - 1841s 3s/step - loss: 0.0151 - accuracy: 0.9987 - val_loss: 1.1147 - val_accuracy: 0.8861\n",
      "Epoch 43/80\n",
      "628/628 [==============================] - 1909s 3s/step - loss: 0.0091 - accuracy: 0.9990 - val_loss: 1.0159 - val_accuracy: 0.9041\n",
      "Epoch 44/80\n",
      "628/628 [==============================] - 1931s 3s/step - loss: 0.0164 - accuracy: 0.9990 - val_loss: 0.9292 - val_accuracy: 0.9072\n",
      "Epoch 45/80\n",
      "628/628 [==============================] - 1990s 3s/step - loss: 0.0047 - accuracy: 0.9995 - val_loss: 0.9582 - val_accuracy: 0.9108\n",
      "Epoch 46/80\n",
      "628/628 [==============================] - 1889s 3s/step - loss: 0.0071 - accuracy: 0.9992 - val_loss: 1.1718 - val_accuracy: 0.8960\n",
      "Epoch 47/80\n",
      "628/628 [==============================] - 2141s 3s/step - loss: 0.0060 - accuracy: 0.9993 - val_loss: 1.0382 - val_accuracy: 0.9059\n",
      "Epoch 48/80\n",
      "628/628 [==============================] - 1863s 3s/step - loss: 0.0057 - accuracy: 0.9994 - val_loss: 1.0388 - val_accuracy: 0.9063\n",
      "Epoch 49/80\n",
      "628/628 [==============================] - 1969s 3s/step - loss: 0.0097 - accuracy: 0.9990 - val_loss: 0.9696 - val_accuracy: 0.9121\n",
      "Epoch 50/80\n",
      "628/628 [==============================] - 2165s 3s/step - loss: 0.0092 - accuracy: 0.9992 - val_loss: 1.1007 - val_accuracy: 0.8987\n",
      "Epoch 51/80\n",
      "628/628 [==============================] - 1807s 3s/step - loss: 0.0045 - accuracy: 0.9996 - val_loss: 1.0567 - val_accuracy: 0.9130\n",
      "Epoch 52/80\n",
      "628/628 [==============================] - 1752s 3s/step - loss: 0.0052 - accuracy: 0.9993 - val_loss: 1.1163 - val_accuracy: 0.9041\n",
      "Epoch 53/80\n",
      "628/628 [==============================] - 1740s 3s/step - loss: 0.0035 - accuracy: 0.9994 - val_loss: 1.1281 - val_accuracy: 0.9014\n",
      "Epoch 54/80\n",
      "628/628 [==============================] - 1717s 3s/step - loss: 0.0067 - accuracy: 0.9993 - val_loss: 1.1645 - val_accuracy: 0.8987\n",
      "Epoch 55/80\n",
      "628/628 [==============================] - 1716s 3s/step - loss: 0.0029 - accuracy: 0.9996 - val_loss: 1.1494 - val_accuracy: 0.9027\n",
      "Epoch 56/80\n",
      "628/628 [==============================] - 1711s 3s/step - loss: 0.0087 - accuracy: 0.9995 - val_loss: 1.0616 - val_accuracy: 0.9077\n",
      "Epoch 57/80\n",
      "628/628 [==============================] - 1714s 3s/step - loss: 0.0052 - accuracy: 0.9992 - val_loss: 1.0867 - val_accuracy: 0.9090\n",
      "Epoch 58/80\n",
      "628/628 [==============================] - 1710s 3s/step - loss: 0.0070 - accuracy: 0.9993 - val_loss: 1.0258 - val_accuracy: 0.9099\n",
      "Epoch 59/80\n",
      "628/628 [==============================] - 1712s 3s/step - loss: 0.0041 - accuracy: 0.9997 - val_loss: 1.0712 - val_accuracy: 0.9045\n",
      "Epoch 60/80\n",
      "628/628 [==============================] - 1707s 3s/step - loss: 0.0049 - accuracy: 0.9995 - val_loss: 1.0800 - val_accuracy: 0.9027\n",
      "Epoch 61/80\n",
      "628/628 [==============================] - 1722s 3s/step - loss: 0.0040 - accuracy: 0.9995 - val_loss: 1.0465 - val_accuracy: 0.9090\n",
      "Epoch 62/80\n",
      "628/628 [==============================] - 1852s 3s/step - loss: 0.0070 - accuracy: 0.9995 - val_loss: 1.0004 - val_accuracy: 0.9095\n",
      "Epoch 63/80\n",
      "628/628 [==============================] - 1848s 3s/step - loss: 0.0024 - accuracy: 0.9997 - val_loss: 1.0205 - val_accuracy: 0.9086\n",
      "Epoch 64/80\n",
      "628/628 [==============================] - 1819s 3s/step - loss: 0.0025 - accuracy: 0.9998 - val_loss: 1.0379 - val_accuracy: 0.9068\n",
      "Epoch 65/80\n",
      "628/628 [==============================] - 1790s 3s/step - loss: 0.0029 - accuracy: 0.9997 - val_loss: 1.0570 - val_accuracy: 0.9108\n",
      "Epoch 66/80\n",
      "628/628 [==============================] - 1804s 3s/step - loss: 0.0041 - accuracy: 0.9996 - val_loss: 1.1170 - val_accuracy: 0.9018\n",
      "Epoch 67/80\n",
      "628/628 [==============================] - 1975s 3s/step - loss: 9.0427e-04 - accuracy: 0.9998 - val_loss: 1.0926 - val_accuracy: 0.9086\n",
      "Epoch 68/80\n",
      "628/628 [==============================] - 2105s 3s/step - loss: 0.0048 - accuracy: 0.9997 - val_loss: 1.1369 - val_accuracy: 0.9050\n",
      "Epoch 69/80\n",
      "628/628 [==============================] - 1806s 3s/step - loss: 0.0010 - accuracy: 0.9999 - val_loss: 1.0844 - val_accuracy: 0.9117\n",
      "Epoch 70/80\n",
      "628/628 [==============================] - 1754s 3s/step - loss: 9.7903e-04 - accuracy: 0.9999 - val_loss: 1.0919 - val_accuracy: 0.9068\n",
      "Epoch 71/80\n",
      "628/628 [==============================] - 1720s 3s/step - loss: 3.9789e-04 - accuracy: 0.9998 - val_loss: 1.0952 - val_accuracy: 0.9086\n",
      "Epoch 72/80\n",
      "628/628 [==============================] - 1711s 3s/step - loss: 8.7176e-05 - accuracy: 1.0000 - val_loss: 1.1457 - val_accuracy: 0.9036\n",
      "Epoch 73/80\n",
      "628/628 [==============================] - 1706s 3s/step - loss: 0.0034 - accuracy: 0.9998 - val_loss: 1.1489 - val_accuracy: 0.9018\n",
      "Epoch 74/80\n",
      "628/628 [==============================] - 1710s 3s/step - loss: 8.8972e-04 - accuracy: 0.9999 - val_loss: 1.1361 - val_accuracy: 0.9050\n",
      "Epoch 75/80\n",
      "628/628 [==============================] - 1703s 3s/step - loss: 0.0011 - accuracy: 0.9998 - val_loss: 1.1342 - val_accuracy: 0.9059\n",
      "Epoch 76/80\n",
      "628/628 [==============================] - 1703s 3s/step - loss: 8.8300e-04 - accuracy: 0.9999 - val_loss: 1.1444 - val_accuracy: 0.9018\n",
      "Epoch 77/80\n",
      "628/628 [==============================] - 1703s 3s/step - loss: 9.3271e-04 - accuracy: 0.9998 - val_loss: 1.1440 - val_accuracy: 0.9027\n",
      "Epoch 78/80\n",
      "628/628 [==============================] - 1702s 3s/step - loss: 3.7793e-05 - accuracy: 1.0000 - val_loss: 1.1480 - val_accuracy: 0.9027\n",
      "Epoch 79/80\n",
      "628/628 [==============================] - 1709s 3s/step - loss: 0.0017 - accuracy: 0.9999 - val_loss: 1.1452 - val_accuracy: 0.9027\n",
      "Epoch 80/80\n",
      "628/628 [==============================] - 1709s 3s/step - loss: 8.0095e-04 - accuracy: 0.9998 - val_loss: 1.1424 - val_accuracy: 0.9041\n"
     ]
    }
   ],
   "source": [
    "print(f'Training model with {tfhub_handle_encoder}')\n",
    "history = classifier_model.fit(x=train_ds,\n",
    "                               validation_data=val_ds,\n",
    "                               epochs=epochs,\n",
    "                               # The class weights go here\n",
    "                               class_weight=class_weight\n",
    ")"
   ]
  },
  {
   "cell_type": "code",
   "execution_count": 74,
   "id": "41911e86",
   "metadata": {},
   "outputs": [
    {
     "name": "stdout",
     "output_type": "stream",
     "text": [
      "78/78 [==============================] - 67s 854ms/step - loss: 1.1397 - accuracy: 0.9104\n",
      "Loss: 1.1397281885147095\n",
      "Accuracy: 0.9104477763175964\n"
     ]
    }
   ],
   "source": [
    "loss, accuracy = classifier_model.evaluate(test_ds)\n",
    "\n",
    "print(f'Loss: {loss}')\n",
    "print(f'Accuracy: {accuracy}')"
   ]
  },
  {
   "cell_type": "code",
   "execution_count": 77,
   "id": "3038f0fc",
   "metadata": {},
   "outputs": [
    {
     "name": "stdout",
     "output_type": "stream",
     "text": [
      "78/78 [==============================] - 67s 858ms/step\n",
      "[1 1 2 ... 1 1 1]\n"
     ]
    }
   ],
   "source": [
    "result =  classifier_model.predict(test_ds)\n",
    "print(np.argmax(result,axis=-1))"
   ]
  },
  {
   "cell_type": "code",
   "execution_count": 79,
   "id": "35bfe392",
   "metadata": {},
   "outputs": [
    {
     "name": "stderr",
     "output_type": "stream",
     "text": [
      "WARNING:absl:Found untraced functions such as restored_function_body, restored_function_body, restored_function_body, restored_function_body, restored_function_body while saving (showing 5 of 124). These functions will not be directly callable after loading.\n"
     ]
    }
   ],
   "source": [
    "classifier_model.save('Bert_MLP_TF_Hate_Speech_Classification_Model',include_optimizer=False)"
   ]
  },
  {
   "cell_type": "code",
   "execution_count": 20,
   "id": "1e6bd2c0",
   "metadata": {},
   "outputs": [],
   "source": [
    "classifier_model = tf.keras.models.load_model('Bert_MLP_TF_Hate_Speech_Classification_Model')"
   ]
  },
  {
   "cell_type": "code",
   "execution_count": 7,
   "id": "2f9d0745",
   "metadata": {},
   "outputs": [
    {
     "name": "stderr",
     "output_type": "stream",
     "text": [
      "/Users/edinamklutse/opt/anaconda3/lib/python3.9/site-packages/IPython/core/interactiveshell.py:3444: DtypeWarning: Columns (1) have mixed types.Specify dtype option on import or set low_memory=False.\n",
      "  exec(code_obj, self.user_global_ns, self.user_ns)\n"
     ]
    },
    {
     "data": {
      "text/html": [
       "<div>\n",
       "<style scoped>\n",
       "    .dataframe tbody tr th:only-of-type {\n",
       "        vertical-align: middle;\n",
       "    }\n",
       "\n",
       "    .dataframe tbody tr th {\n",
       "        vertical-align: top;\n",
       "    }\n",
       "\n",
       "    .dataframe thead th {\n",
       "        text-align: right;\n",
       "    }\n",
       "</style>\n",
       "<table border=\"1\" class=\"dataframe\">\n",
       "  <thead>\n",
       "    <tr style=\"text-align: right;\">\n",
       "      <th></th>\n",
       "      <th>tweets</th>\n",
       "    </tr>\n",
       "  </thead>\n",
       "  <tbody>\n",
       "    <tr>\n",
       "      <th>0</th>\n",
       "      <td>Precious Achiuwa block Kevin Durant come dey b...</td>\n",
       "    </tr>\n",
       "    <tr>\n",
       "      <th>1</th>\n",
       "      <td>@2great2fail Nigga just because someone knows ...</td>\n",
       "    </tr>\n",
       "    <tr>\n",
       "      <th>2</th>\n",
       "      <td>Nigga just listing players who sounds like tha...</td>\n",
       "    </tr>\n",
       "    <tr>\n",
       "      <th>3</th>\n",
       "      <td>Niggas will do this and at the same time say B...</td>\n",
       "    </tr>\n",
       "    <tr>\n",
       "      <th>4</th>\n",
       "      <td>Niggas who only watch conference finals and Bo...</td>\n",
       "    </tr>\n",
       "  </tbody>\n",
       "</table>\n",
       "</div>"
      ],
      "text/plain": [
       "                                              tweets\n",
       "0  Precious Achiuwa block Kevin Durant come dey b...\n",
       "1  @2great2fail Nigga just because someone knows ...\n",
       "2  Nigga just listing players who sounds like tha...\n",
       "3  Niggas will do this and at the same time say B...\n",
       "4  Niggas who only watch conference finals and Bo..."
      ]
     },
     "execution_count": 7,
     "metadata": {},
     "output_type": "execute_result"
    }
   ],
   "source": [
    "NBA_tweets = pd.read_csv('NBA_tweets_snscrape.csv',)\n",
    "NBA_tweets.drop(NBA_tweets.columns[0], axis = 1, inplace= True )\n",
    "NBA_tweets.head()"
   ]
  },
  {
   "cell_type": "code",
   "execution_count": 85,
   "id": "20be6656",
   "metadata": {},
   "outputs": [
    {
     "name": "stdout",
     "output_type": "stream",
     "text": [
      "<class 'pandas.core.frame.DataFrame'>\n",
      "RangeIndex: 1027717 entries, 0 to 1027716\n",
      "Data columns (total 1 columns):\n",
      " #   Column  Non-Null Count   Dtype \n",
      "---  ------  --------------   ----- \n",
      " 0   tweets  503424 non-null  object\n",
      "dtypes: object(1)\n",
      "memory usage: 7.8+ MB\n"
     ]
    }
   ],
   "source": [
    "NBA_tweets.info()"
   ]
  },
  {
   "cell_type": "code",
   "execution_count": 8,
   "id": "73ecfe5d",
   "metadata": {},
   "outputs": [
    {
     "data": {
      "text/plain": [
       "array(['Precious Achiuwa block Kevin Durant come dey believe himself.\\nNigger legit ducked when he saw Lebron James coming at him 😂',\n",
       "       '@2great2fail Nigga just because someone knows how to play basketball really well that doesn’t mean they ain’t wrong on a basketball opinion lmfao LeBron absolutely clears Kobe and putting Kobe above Mj makes literally zero sense he does nothing better other than shoot the 3',\n",
       "       'Nigga just listing players who sounds like that would be true cuz one thing about Jimmy is he def better I’m the playoffs than regular season 😂 https://t.co/nT49LCOz6W',\n",
       "       ...,\n",
       "       \"Red Kelly's honorary pallbearers include Frank Mahovlich, Bob Baun, Ron Ellis, Dave Keon, Lanny McDonald, Darryl Sittler, Eddie Shack, Dick Duff, and Jim Gregory. #NHL #tmltalk #redkelly #LeafsForever #Leafs https://t.co/GiRdTkV5MU\",\n",
       "       'John Ferguson scored his 100th career goal as Canadiens and Maple Leafs  battled to a 1-1 tie in Toronto. Mickey Redmond, Dick Duff and Jacques Lemaire also scored for the Habs. George Armstrong, Paul Henderson, Dave Keon and Ron Ellis counted for the Leafs. https://t.co/44agVxO5cX',\n",
       "       'Met heroes and icons of the game this year. @NHL Dick Duff, Ron Ellis, Dave Keon, Larry Hillman. @MapleLeafs'],\n",
       "      dtype=object)"
      ]
     },
     "execution_count": 8,
     "metadata": {},
     "output_type": "execute_result"
    }
   ],
   "source": [
    "NBA_tweets_mat = NBA_tweets['tweets'].astype(str).values\n",
    "NBA_tweets_mat.reshape((1027717,1))\n",
    "NBA_tweets_mat                       "
   ]
  },
  {
   "cell_type": "code",
   "execution_count": 22,
   "id": "dc2dabb6",
   "metadata": {},
   "outputs": [
    {
     "name": "stdout",
     "output_type": "stream",
     "text": [
      "WARNING: AutoGraph could not transform <function Model.make_predict_function.<locals>.predict_function at 0x7fd9c52fc310> and will run it as-is.\n",
      "Please report this to the TensorFlow team. When filing the bug, set the verbosity to 10 (on Linux, `export AUTOGRAPH_VERBOSITY=10`) and attach the full output.\n",
      "Cause: closure mismatch, requested ('self', 'step_function'), but source function had ()\n",
      "To silence this warning, decorate the function with @tf.autograph.experimental.do_not_convert\n",
      "32117/32117 [==============================] - 30940s 963ms/step\n"
     ]
    }
   ],
   "source": [
    "pred_NBA=classifier_model.predict(NBA_tweets_mat)"
   ]
  },
  {
   "cell_type": "code",
   "execution_count": 23,
   "id": "189f2463",
   "metadata": {},
   "outputs": [
    {
     "data": {
      "text/html": [
       "<div>\n",
       "<style scoped>\n",
       "    .dataframe tbody tr th:only-of-type {\n",
       "        vertical-align: middle;\n",
       "    }\n",
       "\n",
       "    .dataframe tbody tr th {\n",
       "        vertical-align: top;\n",
       "    }\n",
       "\n",
       "    .dataframe thead th {\n",
       "        text-align: right;\n",
       "    }\n",
       "</style>\n",
       "<table border=\"1\" class=\"dataframe\">\n",
       "  <thead>\n",
       "    <tr style=\"text-align: right;\">\n",
       "      <th></th>\n",
       "      <th>tweets</th>\n",
       "      <th>label</th>\n",
       "      <th>category</th>\n",
       "    </tr>\n",
       "  </thead>\n",
       "  <tbody>\n",
       "    <tr>\n",
       "      <th>0</th>\n",
       "      <td>Precious Achiuwa block Kevin Durant come dey b...</td>\n",
       "      <td>0</td>\n",
       "      <td>hate_speech</td>\n",
       "    </tr>\n",
       "    <tr>\n",
       "      <th>7</th>\n",
       "      <td>it's always the weak ass niggas who hurt our s...</td>\n",
       "      <td>0</td>\n",
       "      <td>hate_speech</td>\n",
       "    </tr>\n",
       "    <tr>\n",
       "      <th>12</th>\n",
       "      <td>Precious Achiuwa is balling this nigga Embiid ...</td>\n",
       "      <td>0</td>\n",
       "      <td>hate_speech</td>\n",
       "    </tr>\n",
       "    <tr>\n",
       "      <th>180</th>\n",
       "      <td>@Dolgo13 Dynamic Duo they said we was the Roma...</td>\n",
       "      <td>0</td>\n",
       "      <td>hate_speech</td>\n",
       "    </tr>\n",
       "    <tr>\n",
       "      <th>228</th>\n",
       "      <td>it's always the weak ass niggas who hurt our s...</td>\n",
       "      <td>0</td>\n",
       "      <td>hate_speech</td>\n",
       "    </tr>\n",
       "  </tbody>\n",
       "</table>\n",
       "</div>"
      ],
      "text/plain": [
       "                                                tweets  label     category\n",
       "0    Precious Achiuwa block Kevin Durant come dey b...      0  hate_speech\n",
       "7    it's always the weak ass niggas who hurt our s...      0  hate_speech\n",
       "12   Precious Achiuwa is balling this nigga Embiid ...      0  hate_speech\n",
       "180  @Dolgo13 Dynamic Duo they said we was the Roma...      0  hate_speech\n",
       "228  it's always the weak ass niggas who hurt our s...      0  hate_speech"
      ]
     },
     "execution_count": 23,
     "metadata": {},
     "output_type": "execute_result"
    }
   ],
   "source": [
    "NBA_tweets['label']=np.argmax(pred_NBA,axis=-1)\n",
    "NBA_tweets['category']=NBA_tweets['label'].map({0:'hate_speech', 1:'offensive_language', 2:'neither'})\n",
    "NBA_hate_tweets = NBA_tweets[NBA_tweets['label']==0]\n",
    "NBA_hate_tweets.head()\n"
   ]
  },
  {
   "cell_type": "code",
   "execution_count": 26,
   "id": "b0a45adb",
   "metadata": {},
   "outputs": [
    {
     "data": {
      "image/png": "[encoded data removed]",
      "text/plain": [
       "<Figure size 432x288 with 1 Axes>"
      ]
     },
     "metadata": {
      "needs_background": "light"
     },
     "output_type": "display_data"
    }
   ],
   "source": [
    "from wordcloud import WordCloud, STOPWORDS\n",
    "stopwords = set(STOPWORDS)\n",
    "stopwords.add(\"RT\")\n",
    "\n",
    "import random\n",
    "\n",
    "def random_color_func(word=None, font_size=None, position=None,  orientation=None, font_path=None, random_state=None):\n",
    "    h = 344\n",
    "    s = int(100.0 * 255.0 / 255.0)\n",
    "    l = int(100.0 * float(random_state.randint(60, 120)) / 255.0)\n",
    "    return \"hsl({}, {}%, {}%)\".format(h, s, l)\n",
    "wordcloud = WordCloud(\n",
    "                          background_color='white',\n",
    "                          stopwords=stopwords,\n",
    "                          max_words=200,\n",
    "                          max_font_size=60, \n",
    "                          random_state=42\n",
    "                         ).generate(str(NBA_hate_tweets.loc[NBA_hate_tweets[\"category\"]==\"hate_speech\"].tweets))\n",
    "fig = plt.figure(1)\n",
    "plt.imshow(wordcloud.recolor(color_func= random_color_func, random_state=3),\n",
    "           interpolation=\"bilinear\")\n",
    "plt.axis('off')\n",
    "plt.show()"
   ]
  },
  {
   "cell_type": "code",
   "execution_count": 27,
   "id": "81ffdb9c",
   "metadata": {},
   "outputs": [],
   "source": [
    "NBA_tweets.to_csv(\"Bert_Classified_NBA_tweets\",sep=',')"
   ]
  },
  {
   "cell_type": "code",
   "execution_count": 28,
   "id": "4ca33d7d",
   "metadata": {},
   "outputs": [],
   "source": [
    "NBA_hate_tweets.to_csv(\"Bert_Classified_NBA_hate_tweets\",sep=',')"
   ]
  },
  {
   "cell_type": "code",
   "execution_count": 30,
   "id": "536319be",
   "metadata": {},
   "outputs": [
    {
     "data": {
      "text/html": [
       "<div>\n",
       "<style scoped>\n",
       "    .dataframe tbody tr th:only-of-type {\n",
       "        vertical-align: middle;\n",
       "    }\n",
       "\n",
       "    .dataframe tbody tr th {\n",
       "        vertical-align: top;\n",
       "    }\n",
       "\n",
       "    .dataframe thead th {\n",
       "        text-align: right;\n",
       "    }\n",
       "</style>\n",
       "<table border=\"1\" class=\"dataframe\">\n",
       "  <thead>\n",
       "    <tr style=\"text-align: right;\">\n",
       "      <th></th>\n",
       "      <th>tweets</th>\n",
       "      <th>label</th>\n",
       "      <th>category</th>\n",
       "    </tr>\n",
       "  </thead>\n",
       "  <tbody>\n",
       "    <tr>\n",
       "      <th>0</th>\n",
       "      <td>Precious Achiuwa block Kevin Durant come dey b...</td>\n",
       "      <td>0</td>\n",
       "      <td>hate_speech</td>\n",
       "    </tr>\n",
       "    <tr>\n",
       "      <th>7</th>\n",
       "      <td>it's always the weak ass niggas who hurt our s...</td>\n",
       "      <td>0</td>\n",
       "      <td>hate_speech</td>\n",
       "    </tr>\n",
       "    <tr>\n",
       "      <th>12</th>\n",
       "      <td>Precious Achiuwa is balling this nigga Embiid ...</td>\n",
       "      <td>0</td>\n",
       "      <td>hate_speech</td>\n",
       "    </tr>\n",
       "    <tr>\n",
       "      <th>180</th>\n",
       "      <td>@Dolgo13 Dynamic Duo they said we was the Roma...</td>\n",
       "      <td>0</td>\n",
       "      <td>hate_speech</td>\n",
       "    </tr>\n",
       "    <tr>\n",
       "      <th>228</th>\n",
       "      <td>it's always the weak ass niggas who hurt our s...</td>\n",
       "      <td>0</td>\n",
       "      <td>hate_speech</td>\n",
       "    </tr>\n",
       "    <tr>\n",
       "      <th>...</th>\n",
       "      <td>...</td>\n",
       "      <td>...</td>\n",
       "      <td>...</td>\n",
       "    </tr>\n",
       "    <tr>\n",
       "      <th>1196</th>\n",
       "      <td>bro steven adams is such a good cunt https://t...</td>\n",
       "      <td>0</td>\n",
       "      <td>hate_speech</td>\n",
       "    </tr>\n",
       "    <tr>\n",
       "      <th>1209</th>\n",
       "      <td>@rickygervais @_stevenadams Ugh Steven Adams y...</td>\n",
       "      <td>0</td>\n",
       "      <td>hate_speech</td>\n",
       "    </tr>\n",
       "    <tr>\n",
       "      <th>1219</th>\n",
       "      <td>Steven adams is an asshole</td>\n",
       "      <td>0</td>\n",
       "      <td>hate_speech</td>\n",
       "    </tr>\n",
       "    <tr>\n",
       "      <th>1220</th>\n",
       "      <td>@cityofokc @RealStevenAdams Screw Presti. I'm ...</td>\n",
       "      <td>0</td>\n",
       "      <td>hate_speech</td>\n",
       "    </tr>\n",
       "    <tr>\n",
       "      <th>1222</th>\n",
       "      <td>Steven Adams am asshole 😂😂😂</td>\n",
       "      <td>0</td>\n",
       "      <td>hate_speech</td>\n",
       "    </tr>\n",
       "  </tbody>\n",
       "</table>\n",
       "<p>100 rows × 3 columns</p>\n",
       "</div>"
      ],
      "text/plain": [
       "                                                 tweets  label     category\n",
       "0     Precious Achiuwa block Kevin Durant come dey b...      0  hate_speech\n",
       "7     it's always the weak ass niggas who hurt our s...      0  hate_speech\n",
       "12    Precious Achiuwa is balling this nigga Embiid ...      0  hate_speech\n",
       "180   @Dolgo13 Dynamic Duo they said we was the Roma...      0  hate_speech\n",
       "228   it's always the weak ass niggas who hurt our s...      0  hate_speech\n",
       "...                                                 ...    ...          ...\n",
       "1196  bro steven adams is such a good cunt https://t...      0  hate_speech\n",
       "1209  @rickygervais @_stevenadams Ugh Steven Adams y...      0  hate_speech\n",
       "1219                         Steven adams is an asshole      0  hate_speech\n",
       "1220  @cityofokc @RealStevenAdams Screw Presti. I'm ...      0  hate_speech\n",
       "1222                        Steven Adams am asshole 😂😂😂      0  hate_speech\n",
       "\n",
       "[100 rows x 3 columns]"
      ]
     },
     "execution_count": 30,
     "metadata": {},
     "output_type": "execute_result"
    }
   ],
   "source": [
    "NBA_hate_tweets.head(100)"
   ]
  },
  {
   "cell_type": "code",
   "execution_count": null,
   "id": "fe953ca1",
   "metadata": {},
   "outputs": [],
   "source": []
  }
 ],
 "metadata": {
  "kernelspec": {
   "display_name": "Python 3 (ipykernel)",
   "language": "python",
   "name": "python3"
  },
  "language_info": {
   "codemirror_mode": {
    "name": "ipython",
    "version": 3
   },
   "file_extension": ".py",
   "mimetype": "text/x-python",
   "name": "python",
   "nbconvert_exporter": "python",
   "pygments_lexer": "ipython3",
   "version": "3.9.7"
  }
 },
 "nbformat": 4,
 "nbformat_minor": 5
}
